{
 "cells": [
  {
   "cell_type": "markdown",
   "metadata": {
    "colab_type": "text",
    "id": "view-in-github"
   },
   "source": [
    "<a href=\"https://colab.research.google.com/github/sanjaynagi/AnoFold/blob/main/notebooks/AnoFold.ipynb\" target=\"_parent\"><img src=\"https://colab.research.google.com/assets/colab-badge.svg\" alt=\"Open In Colab\"/></a>"
   ]
  },
  {
   "cell_type": "code",
   "execution_count": 1,
   "metadata": {
    "colab": {
     "base_uri": "https://localhost:8080/"
    },
    "id": "x5wID6CTbzRB",
    "outputId": "7fefba6d-9d1b-4acf-ee5b-3c3e10aa7339"
   },
   "outputs": [],
   "source": [
    "# %pip install py3Dmol\n",
    "\n",
    "# !wget https://github.com/gnina/gnina/releases/download/v1.1/gnina\n",
    "# !chmod +x gnina\n",
    "# !./gnina --version"
   ]
  },
  {
   "cell_type": "code",
   "execution_count": 2,
   "metadata": {
    "id": "XVXkg5Xi8bdU"
   },
   "outputs": [],
   "source": [
    "# # genes = ['AGAP006227', 'AGAP006228', 'AGAP006723', 'AGAP006724', 'AGAP006725', 'AGAP006726', 'AGAP006727']\n",
    "# df_genes = pd.read_csv(\"https://raw.githubusercontent.com/sanjaynagi/AnoExpress/main/resources/AgamP4.annots.tsv\", \n",
    "#                        sep=\"\\t\")\n",
    "\n",
    "# search = 'S-transferase'\n",
    "# genes = df_genes.fillna('bl').query('GeneDescription.str.contains(@search)')['GeneID'].to_list()"
   ]
  },
  {
   "cell_type": "code",
   "execution_count": 3,
   "metadata": {
    "id": "XVXkg5Xi8bdU"
   },
   "outputs": [],
   "source": [
    "# ligands = ['ddt3d', 'deltamethrin3d']           #, 'pirimiphos-methyl-oxon3d', 'malathion3d', 'cis-permethrin3d','transfluthrin3d']\n",
    "# genes = ['AGAP006227']\n",
    "# # for gene in genes:\n",
    "# #     for ligand in ligands:\n",
    "# #           res = invin(gene, ligand=ligand, override_desc='glutathione transferase')"
   ]
  },
  {
   "cell_type": "markdown",
   "metadata": {
    "id": "FmfNINymb3_o"
   },
   "source": [
    "## iMOVE - inverse molecular docking with alphafold and gnina"
   ]
  },
  {
   "cell_type": "code",
   "execution_count": 1,
   "metadata": {},
   "outputs": [
    {
     "name": "stdout",
     "output_type": "stream",
     "text": [
      "Starting docking process for gene_id: AGAP006227, ligand: deltamethrin3d\n",
      "Checking for receptor and ligand files...\n",
      "Receptor file not found. Downloading and preparing AlphaFold PDB for AGAP006227\n",
      "┌──────────────────────────────────────────────────────────────────────────────┐\n",
      "│                                 PyRosetta-4                                  │\n",
      "│              Created in JHU by Sergey Lyskov and PyRosetta Team              │\n",
      "│              (C) Copyright Rosetta Commons Member Institutions               │\n",
      "│                                                                              │\n",
      "│ NOTE: USE OF PyRosetta FOR COMMERCIAL PURPOSES REQUIRE PURCHASE OF A LICENSE │\n",
      "│         See LICENSE.PyRosetta.md or email license@uw.edu for details         │\n",
      "└──────────────────────────────────────────────────────────────────────────────┘\n",
      "PyRosetta-4 2024 [Rosetta PyRosetta4.Release.python311.ubuntu 2024.19+release.a34b73c40fe9c61558d566d6a63f803cfb15a4fc 2024-05-02T16:22:03] retrieved from: http://www.pyrosetta.org\n",
      "core.init: Checking for fconfig files in pwd and ./rosetta/flags\n",
      "core.init: Rosetta version: PyRosetta4.Release.python311.ubuntu r381 2024.19+release.a34b73c40f a34b73c40fe9c61558d566d6a63f803cfb15a4fc http://www.pyrosetta.org 2024-05-02T16:22:03\n",
      "core.init: Rosetta extras: []\n",
      "core.init: command: PyRosetta -write_pdb_title_section_records true -write_pdb_link_records true -use_pdb_format_HETNAM_records true -write_pdb_parametric_info true -write_glycan_pdb_codes false -write_seqres_records true -output_pose_energies_table false -database /home/sanj/apps/mambaforge/lib/python3.11/site-packages/pyrosetta/database\n",
      "basic.random.init_random_generator: 'RNG device' seed mode, using '/dev/urandom', seed=-2033166780 seed_offset=0 real_seed=-2033166780\n",
      "basic.random.init_random_generator: RandomGenerator:init: Normal mode, seed=-2033166780 RG_type=mt19937\n",
      "core.chemical.GlobalResidueTypeSet: Finished initializing fa_standard residue type set.  Created 985 residue types\n",
      "core.chemical.GlobalResidueTypeSet: Total time to initialize 1.07974 seconds.\n",
      "core.import_pose.import_pose: File '../../receptors/AGAP006227_raw.pdb' automatically determined to be of type PDB\n",
      "core.scoring.ScoreFunctionFactory: SCOREFUNCTION: ref2015\n",
      "core.scoring.etable: Starting energy table calculation\n",
      "core.scoring.etable: smooth_etable: changing atr/rep split to bottom of energy well\n",
      "core.scoring.etable: smooth_etable: spline smoothing lj etables (maxdis = 6)\n",
      "core.scoring.etable: smooth_etable: spline smoothing solvation etables (max_dis = 6)\n",
      "core.scoring.etable: Finished calculating energy tables.\n",
      "basic.io.database: Database file opened: scoring/score_functions/hbonds/ref2015_params/HBPoly1D.csv\n",
      "basic.io.database: Database file opened: scoring/score_functions/hbonds/ref2015_params/HBFadeIntervals.csv\n",
      "basic.io.database: Database file opened: scoring/score_functions/hbonds/ref2015_params/HBEval.csv\n",
      "basic.io.database: Database file opened: scoring/score_functions/hbonds/ref2015_params/DonStrength.csv\n",
      "basic.io.database: Database file opened: scoring/score_functions/hbonds/ref2015_params/AccStrength.csv\n",
      "basic.io.database: Database file opened: scoring/score_functions/rama/fd/all.ramaProb\n",
      "basic.io.database: Database file opened: scoring/score_functions/rama/fd/prepro.ramaProb\n",
      "basic.io.database: Database file opened: scoring/score_functions/omega/omega_ppdep.all.txt\n",
      "basic.io.database: Database file opened: scoring/score_functions/omega/omega_ppdep.gly.txt\n",
      "basic.io.database: Database file opened: scoring/score_functions/omega/omega_ppdep.pro.txt\n",
      "basic.io.database: Database file opened: scoring/score_functions/omega/omega_ppdep.valile.txt\n",
      "basic.io.database: Database file opened: scoring/score_functions/P_AA_pp/P_AA\n",
      "basic.io.database: Database file opened: scoring/score_functions/P_AA_pp/P_AA_n\n",
      "core.scoring.P_AA: shapovalov_lib::shap_p_aa_pp_smooth_level of 1( aka low_smooth ) got activated.\n",
      "basic.io.database: Database file opened: scoring/score_functions/P_AA_pp/shapovalov/10deg/kappa131/a20.prop\n",
      "core.pack.task: Packer task: initialize from command line()\n",
      "basic.io.database: Database file opened: scoring/score_functions/elec_cp_reps.dat\n",
      "core.scoring.elec.util: Read 40 countpair representative atoms\n",
      "core.pack.dunbrack.RotamerLibrary: shapovalov_lib_fixes_enable option is true.\n",
      "core.pack.dunbrack.RotamerLibrary: shapovalov_lib::shap_dun10_smooth_level of 1( aka lowest_smooth ) got activated.\n",
      "core.pack.dunbrack.RotamerLibrary: Binary rotamer library selected: /home/sanj/apps/mambaforge/lib/python3.11/site-packages/pyrosetta/database/rotamer/shapovalov/StpDwn_0-0-0/Dunbrack10.lib.bin\n",
      "core.pack.dunbrack.RotamerLibrary: Using Dunbrack library binary file '/home/sanj/apps/mambaforge/lib/python3.11/site-packages/pyrosetta/database/rotamer/shapovalov/StpDwn_0-0-0/Dunbrack10.lib.bin'.\n",
      "core.pack.dunbrack.RotamerLibrary: Dunbrack 2010 library took 0.146873 seconds to load from binary\n",
      "core.pack.pack_rotamers: built 1 rotamers at 1 positions.\n",
      "core.pack.interaction_graph.interaction_graph_factory: Instantiating PDInteractionGraph\n",
      "Mutated residue 477 to V\n",
      "Mutagenesis complete. New structure saved as '../../receptors/AGAP006227_raw_477V.pdb'\n",
      "Downloaded and protonated AlphaFold PDB for AGAP006227 (UniProt: Q7PPA9) to ../../receptors/AGAP006227_477V.pdbqt\n",
      "UniProt accession: Q7PPA9\n",
      "Running molecular docking for AGAP006227 | 1276888 (Carboxylic ester hydrolase)\n",
      "Generated motifs - active site motif: [LIV].G.S.G, catalytic molecule: OG, catalytic codon in motif: 4\n",
      "Motif detected in PDB at codon 188:194 = LFGESAG, Flanking sequence: PDNVT[LFGESAG]GCSVH\n",
      "Active site coordinates: x=5.257, y=0.15, z=-0.031\n",
      "Preparing to run GNINA for docking...\n",
      "              _             \n",
      "             (_)            \n",
      "   __ _ _ __  _ _ __   __ _ \n",
      "  / _` | '_ \\| | '_ \\ / _` |\n",
      " | (_| | | | | | | | | (_| |\n",
      "  \\__, |_| |_|_|_| |_|\\__,_|\n",
      "   __/ |                    \n",
      "  |___/                     \n",
      "\n",
      "gnina v1.1 master:e4cb380+   Built Dec 18 2023.\n",
      "gnina is based on smina and AutoDock Vina.\n",
      "Please cite appropriately.\n",
      "\n",
      "WARNING: No GPU detected. CNN scoring will be slow.\n",
      "Recommend running with single model (--cnn crossdock_default2018)\n",
      "or without cnn scoring (--cnn_scoring=none).\n",
      "\n",
      "Commandline: ./gnina -r ../../receptors/AGAP006227_477V.pdbqt -l ../../ligands/deltamethrin3d.pdbqt --center_x 5.257 --center_y 0.15 --center_z -0.031 --size_x 20 --size_y 20 --size_z 20 -o ../../docked/AGAP006227_477V_deltamethrin3d.sdf --log ../../logs/AGAP006227_477V_deltamethrin3d.log --seed 0\n",
      "Using random seed: 0\n",
      "\n",
      "0%   10   20   30   40   50   60   70   80   90   100%\n",
      "|----|----|----|----|----|----|----|----|----|----|\n",
      "***************************************************\n"
     ]
    }
   ],
   "source": [
    "import imove\n",
    "docked = imove.dock(\"AGAP006227\", \"deltamethrin3d\", wkdir=\"../../\", verbose=True, mutagenesis_dict={477:'V'})"
   ]
  },
  {
   "cell_type": "code",
   "execution_count": null,
   "metadata": {},
   "outputs": [],
   "source": []
  },
  {
   "cell_type": "code",
   "execution_count": null,
   "metadata": {},
   "outputs": [],
   "source": []
  },
  {
   "cell_type": "code",
   "execution_count": null,
   "metadata": {},
   "outputs": [],
   "source": []
  },
  {
   "cell_type": "markdown",
   "metadata": {
    "id": "Iesomu5OHATQ"
   },
   "source": [
    "### Chimera / HEM / Superimposement"
   ]
  },
  {
   "cell_type": "code",
   "execution_count": null,
   "metadata": {
    "id": "ahdwGt9n93Kb"
   },
   "outputs": [],
   "source": [
    "# %pip install chimerax"
   ]
  },
  {
   "cell_type": "code",
   "execution_count": null,
   "metadata": {
    "id": "REInbaPp9xnZ"
   },
   "outputs": [],
   "source": [
    "# from chimerax.core.commands import run\n",
    "\n",
    "# # Open your PDB and the reference PDB with the heme\n",
    "# run(session, pdb_path)\n",
    "# run(session, ref_p450_path)\n",
    "\n",
    "# # Assuming your P450 is model #1 and the reference is model #2\n",
    "# # Perform the superposition\n",
    "# run(session, \"match #2 to #1\")\n",
    "\n",
    "# # Select the heme from the reference model\n",
    "# run(session, \"select #2/name HEM\")\n",
    "\n",
    "# # Copy the selected heme to your P450 model\n",
    "# run(session, \"copy sel models #1\")\n",
    "\n",
    "# # Optionally, you can hide or close the reference model\n",
    "# run(session, \"hide #2\")\n",
    "# # or\n",
    "# # run(session, \"close #2\")\n",
    "\n",
    "# # Save the result\n",
    "# run(session, \"save your_p450_with_heme.pdb models #1\")"
   ]
  }
 ],
 "metadata": {
  "accelerator": "GPU",
  "colab": {
   "gpuType": "T4",
   "include_colab_link": true,
   "provenance": []
  },
  "kernelspec": {
   "display_name": "Python 3 (ipykernel)",
   "language": "python",
   "name": "python3"
  },
  "language_info": {
   "codemirror_mode": {
    "name": "ipython",
    "version": 3
   },
   "file_extension": ".py",
   "mimetype": "text/x-python",
   "name": "python",
   "nbconvert_exporter": "python",
   "pygments_lexer": "ipython3",
   "version": "3.11.0"
  }
 },
 "nbformat": 4,
 "nbformat_minor": 4
}
