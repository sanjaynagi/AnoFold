{
 "cells": [
  {
   "cell_type": "markdown",
   "metadata": {
    "colab_type": "text",
    "id": "view-in-github"
   },
   "source": [
    "<a href=\"https://colab.research.google.com/github/sanjaynagi/AnoFold/blob/main/notebooks/AnoFold.ipynb\" target=\"_parent\"><img src=\"https://colab.research.google.com/assets/colab-badge.svg\" alt=\"Open In Colab\"/></a>"
   ]
  },
  {
   "cell_type": "code",
   "execution_count": 1,
   "metadata": {
    "colab": {
     "base_uri": "https://localhost:8080/"
    },
    "id": "x5wID6CTbzRB",
    "outputId": "7fefba6d-9d1b-4acf-ee5b-3c3e10aa7339"
   },
   "outputs": [],
   "source": [
    "# %pip install py3Dmol\n",
    "\n",
    "# !wget https://github.com/gnina/gnina/releases/download/v1.1/gnina\n",
    "# !chmod +x gnina\n",
    "# !./gnina --version"
   ]
  },
  {
   "cell_type": "code",
   "execution_count": 2,
   "metadata": {
    "id": "XVXkg5Xi8bdU"
   },
   "outputs": [],
   "source": [
    "# # genes = ['AGAP006227', 'AGAP006228', 'AGAP006723', 'AGAP006724', 'AGAP006725', 'AGAP006726', 'AGAP006727']\n",
    "# df_genes = pd.read_csv(\"https://raw.githubusercontent.com/sanjaynagi/AnoExpress/main/resources/AgamP4.annots.tsv\", \n",
    "#                        sep=\"\\t\")\n",
    "\n",
    "# search = 'S-transferase'\n",
    "# genes = df_genes.fillna('bl').query('GeneDescription.str.contains(@search)')['GeneID'].to_list()"
   ]
  },
  {
   "cell_type": "code",
   "execution_count": 3,
   "metadata": {
    "id": "XVXkg5Xi8bdU"
   },
   "outputs": [],
   "source": [
    "# ligands = ['ddt3d', 'deltamethrin3d']           #, 'pirimiphos-methyl-oxon3d', 'malathion3d', 'cis-permethrin3d','transfluthrin3d']\n",
    "# genes = ['AGAP006227']\n",
    "# # for gene in genes:\n",
    "# #     for ligand in ligands:\n",
    "# #           res = invin(gene, ligand=ligand, override_desc='glutathione transferase')"
   ]
  },
  {
   "cell_type": "markdown",
   "metadata": {
    "id": "FmfNINymb3_o"
   },
   "source": [
    "## iMOVE - inverse molecular docking with alphafold and gnina"
   ]
  },
  {
   "cell_type": "code",
   "execution_count": 4,
   "metadata": {},
   "outputs": [],
   "source": [
    "import imove\n",
    "\n",
    "mutagen_dicts = [None, {114:'T'}, {119:'V'}, {120:'L'}]"
   ]
  },
  {
   "cell_type": "code",
   "execution_count": 5,
   "metadata": {},
   "outputs": [],
   "source": [
    "# for ligand in ['ddt3d', 'deltamethrin3d']:\n",
    "#     for mutagen_dict in mutagen_dicts:\n",
    "        \n",
    "#         # if I114T, the motif needs to be adjusted to include the new mutation\n",
    "#         override_motif = None\n",
    "#         if mutagen_dict:\n",
    "#             if list(mutagen_dict.keys())[0] == 114:\n",
    "#                 override_motif = ('RFTFERI', \"O\", 4)\n",
    "\n",
    "#         imove.dock(\"AGAP009194\", ligand, wkdir=\"../../\", verbose=True, mutagenesis_dict=mutagen_dict, override_motif=override_motif)"
   ]
  },
  {
   "cell_type": "code",
   "execution_count": 2,
   "metadata": {},
   "outputs": [],
   "source": [
    "# docked = imove.dock(\"AGAP000818\", \"ddt3d\", wkdir=\"../../\", verbose=True, mutagenesis_dict=mutagen_dicts[3], override_motif=None)"
   ]
  },
  {
   "cell_type": "code",
   "execution_count": 1,
   "metadata": {},
   "outputs": [
    {
     "name": "stdout",
     "output_type": "stream",
     "text": [
      "Downloading and preparing PDB file for gene_id: AGAP000818\n",
      "Receptor file not found. Downloading and preparing AlphaFold PDB for AGAP000818\n",
      "Successfully downloaded 1TQN.pdb to ./1TQN.pdb\n",
      "INFO:\n",
      "available bundle cache has not been initialized yet\n",
      "INFO:\n",
      "UCSF ChimeraX version: 1.8 (2024-06-10)\n",
      "INFO:\n",
      "© 2016-2024 Regents of the University of California.  All rights reserved.\n",
      "INFO:\n",
      "Executing: open temp_chimerax_script.cxc\n",
      "INFO:\n",
      "Executing: open ../../receptors/AGAP000818_raw.pdb\n",
      "INFO:\n",
      "_AGAP000818_raw.pdb_ title:  \n",
      "**Alphafold monomer V2.0 prediction for cytochrome P450 CYP9K1 (Q6VFG9)**\n",
      "[[more info...]](cxcmd:log metadata #1)  \n",
      "  \n",
      "\n",
      "INFO:\n",
      "Chain information for AGAP000818_raw.pdb #1  \n",
      "---  \n",
      "Chain | Description | UniProt  \n",
      "[A](cxcmd:select /A:1-192 \"Select chain\") | [cytochrome P450 CYP9K1](cxcmd:sequence chain #1/A \"Show sequence\") | [Q6VFG9_ANOGA](cxcmd:open Q6VFG9 from uniprot associate #1/A \"Show annotations\") [1-192](cxcmd:select #1/A:1-192 \"Select sequence\")  \n",
      "  \n",
      "\n",
      "INFO:\n",
      "Executing: open ./1TQN.pdb\n",
      "INFO:\n",
      "_1TQN.pdb_ title:  \n",
      "**Crystal structure of human microsomal P450 3A4** [[more info...]](cxcmd:log\n",
      "metadata #2)  \n",
      "  \n",
      "\n",
      "INFO:\n",
      "Chain information for 1TQN.pdb #2  \n",
      "---  \n",
      "Chain | Description | UniProt  \n",
      "[A](cxcmd:select #2/A:28-499 \"Select chain\") | [cytochrome P450 3A4](cxcmd:sequence chain #2/A \"Show sequence\") | [CP3A4_HUMAN](cxcmd:open P08684 from uniprot associate #2/A \"Show annotations\") [22-503](cxcmd:select #2/A:22-503 \"Select sequence\")  \n",
      "  \n",
      "\n",
      "INFO:\n",
      "Non-standard residues in 1TQN.pdb #2  \n",
      "---  \n",
      "[HEM](cxcmd:sel :HEM \"select residue\") — [protoporphyrin IX containing\n",
      "Fe](http://www.rcsb.org/ligand/HEM \"show residue info\") (HEME)  \n",
      "  \n",
      "\n",
      "INFO:\n",
      "Executing: matchmaker #1 to #2\n",
      "INFO:\n",
      "Parameters  \n",
      "---  \n",
      "Chain pairing | bb  \n",
      "Alignment algorithm | Needleman-Wunsch  \n",
      "Similarity matrix | BLOSUM-62  \n",
      "SS fraction | 0.3  \n",
      "Gap open (HH/SS/other) | 18/18/6  \n",
      "Gap extend | 1  \n",
      "SS matrix |  |  | H | S | O  \n",
      "---|---|---|---  \n",
      "H | 6 | -9 | -6  \n",
      "S |  | 6 | -6  \n",
      "O |  |  | 4  \n",
      "Iteration cutoff | 2  \n",
      "  \n",
      "\n",
      "INFO:\n",
      "Matchmaker 1TQN.pdb, chain A (#2) with AGAP000818_raw.pdb, chain A (#1), sequence alignment score = 288.9\n",
      "STATUS:\n",
      "Matchmaker 1TQN.pdb, chain A (#2) with AGAP000818_raw.pdb, chain A (#1), sequence alignment score = 288.9\n",
      "INFO:\n",
      "RMSD between 94 pruned atom pairs is 1.042 angstroms; (across all 171 pairs: 8.102)\n",
      "STATUS:\n",
      "RMSD between 94 pruned atom pairs is 1.042 angstroms; (across all 171 pairs: 8.102)\n",
      "INFO:\n",
      "\n",
      "INFO:\n",
      "Executing: close #2\n",
      "INFO:\n",
      "Executing: save ../../receptors/AGAP000818_raw.pdb models #1\n",
      "INFO:\n",
      "Executing: exit\n",
      "STATUS:\n",
      "Exiting ...\n",
      "ChimeraX alignment completed. Result saved to ../../receptors/AGAP000818_raw.pdb\n",
      "HEM coordinates inserted successfully. Output written to ../../receptors/AGAP000818_raw.pdb\n",
      "Number of HEM lines inserted: 43\n",
      "Downloaded and protonated AlphaFold PDB for AGAP000818 (UniProt: Q6VFG9) to ../../receptors/AGAP000818.pdbqt\n"
     ]
    },
    {
     "name": "stderr",
     "output_type": "stream",
     "text": [
      "==============================\n",
      "*** Open Babel Warning  in PerceiveBondOrders\n",
      "  Failed to kekulize aromatic bonds in OBMol::PerceiveBondOrders (title is ../../receptors/AGAP000818_raw.pdb)\n",
      "\n"
     ]
    }
   ],
   "source": [
    "import imove\n",
    "\n",
    "imove.download_pdb('AGAP000818', wkdir=\"../../\", verbose=True, p450=True)"
   ]
  },
  {
   "cell_type": "code",
   "execution_count": 2,
   "metadata": {},
   "outputs": [
    {
     "data": {
      "text/plain": [
       "'Q6VFG9'"
      ]
     },
     "execution_count": 2,
     "metadata": {},
     "output_type": "execute_result"
    }
   ],
   "source": [
    "imove.vectorbase_to_uniprot(\"AGAP000818\")"
   ]
  },
  {
   "cell_type": "code",
   "execution_count": 69,
   "metadata": {},
   "outputs": [],
   "source": [
    "import requests\n",
    "def vectorbase_to_uniprot(gene_id):\n",
    "    url = \"https://rest.uniprot.org/idmapping/run\"\n",
    "    data = {\n",
    "        \"from\": \"VEuPathDB\",\n",
    "        \"to\": \"UniProtKB\",\n",
    "        \"ids\": f\"VectorBase:{gene_id}\"\n",
    "    }\n",
    "\n",
    "    response = requests.post(url, data=data)\n",
    "    response.raise_for_status()\n",
    "    job_id = response.json()[\"jobId\"]\n",
    "\n",
    "    status_url = f\"https://rest.uniprot.org/idmapping/status/{job_id}\"\n",
    "    while True:\n",
    "        status_response = requests.get(status_url)\n",
    "        status_response.raise_for_status()\n",
    "        status = status_response.json()\n",
    "        if \"jobStatus\" in status and status[\"jobStatus\"] in (\"RUNNING\", \"NEW\"):\n",
    "            continue\n",
    "        elif \"results\" in status or \"failedIds\" in status:\n",
    "            break\n",
    "\n",
    "    results_url = f\"https://rest.uniprot.org/idmapping/stream/{job_id}\"\n",
    "    results_response = requests.get(results_url)\n",
    "    results_response.raise_for_status()\n",
    "    results = results_response.json()['results']\n",
    "\n",
    "    # if multiple transcripts, choose the longest\n",
    "    lens = {}\n",
    "    if len(results) > 1:\n",
    "        for entry in results:\n",
    "            gene_data = get_uniprot_data(entry['to'], vectorbase=False)\n",
    "            lens[entry['to']] = gene_data['length']\n",
    "\n",
    "        max_key = max(lens, key=lens.get)\n",
    "        print(f\"selecting longest transcript for gene_id: {gene_id}, {max_key} : {lens[max_key]}\")\n",
    "        return max_key\n",
    "    else:\n",
    "        return results[0][\"to\"]\n",
    "\n",
    "def get_uniprot_data(gene_id, vectorbase=True):\n",
    "    if vectorbase:\n",
    "        uniprot_acc = vectorbase_to_uniprot(gene_id)\n",
    "    else:\n",
    "        uniprot_acc = gene_id\n",
    "    if not uniprot_acc:\n",
    "        return f\"No UniProt accession found for VectorBase ID: {gene_id}\"\n",
    "\n",
    "    # UniProt API endpoint\n",
    "    base_url = \"https://rest.uniprot.org/uniprotkb/search\"\n",
    "\n",
    "    print(f\"UniProt accession: {uniprot_acc}\")\n",
    "\n",
    "    # Query parameters\n",
    "    params = {\n",
    "        \"query\": f\"accession:{uniprot_acc}\",\n",
    "        \"format\": \"json\",\n",
    "        \"fields\": \"gene_names,protein_name,organism_name,go, sequence\"\n",
    "    }\n",
    "\n",
    "    # Send request with retry mechanism\n",
    "    max_retries = 3\n",
    "    for attempt in range(max_retries):\n",
    "        try:\n",
    "            response = requests.get(base_url, params=params)\n",
    "            response.raise_for_status()\n",
    "            data = response.json()\n",
    "            if data['results']:\n",
    "                result = data['results'][0]\n",
    "                return {\n",
    "                    \"gene_name\": result.get('genes', [{}])[0].get('geneName', {}).get('value', 'N/A'),\n",
    "                    \"protein_name\": result.get('proteinDescription', {}).get('recommendedName', {}).get('fullName', {}).get('value', 'N/A'),\n",
    "                    \"organism\": result.get('organism', {}).get('scientificName', 'N/A'),\n",
    "                    \"function\": next((comment['texts'][0]['value'] for comment in result.get('comments', []) if comment['commentType'] == 'FUNCTION'), 'N/A'),\n",
    "                    \"go_terms\": [go['id'] for go in result.get('goTerms', [])],\n",
    "                    \"length\": result.get('sequence', {}).get('length', 'N/A')  # Added this line to get the length\n",
    "                }\n",
    "            else:\n",
    "                return f\"No data found for UniProt accession: {uniprot_acc}\"\n",
    "\n",
    "        except requests.exceptions.RequestException as e:\n",
    "            if attempt == max_retries - 1:\n",
    "                return f\"Error retrieving data: {str(e)}\"\n",
    "            time.sleep(2 ** attempt)  # Exponential backoff\n",
    "\n",
    "    return \"Max retries reached. Unable to retrieve data.\"\n"
   ]
  },
  {
   "cell_type": "code",
   "execution_count": 70,
   "metadata": {},
   "outputs": [
    {
     "name": "stdout",
     "output_type": "stream",
     "text": [
      "UniProt accession: Q6VFG9\n",
      "UniProt accession: Q6VFH1\n",
      "UniProt accession: Q6VFH2\n",
      "UniProt accession: Q6VFH3\n",
      "UniProt accession: Q8T633\n",
      "selecting longest transcript for gene_id: AGAP000818, Q8T633 : 531\n"
     ]
    }
   ],
   "source": [
    "results = vectorbase_to_uniprot(\"AGAP000818\")"
   ]
  },
  {
   "cell_type": "code",
   "execution_count": null,
   "metadata": {},
   "outputs": [],
   "source": []
  },
  {
   "cell_type": "code",
   "execution_count": 31,
   "metadata": {},
   "outputs": [
    {
     "name": "stdout",
     "output_type": "stream",
     "text": [
      "UniProt accession: Q8T633\n"
     ]
    },
    {
     "data": {
      "text/plain": [
       "{'gene_name': 'cyp9k1',\n",
       " 'protein_name': 'N/A',\n",
       " 'organism': 'Anopheles gambiae',\n",
       " 'function': 'N/A',\n",
       " 'go_terms': [],\n",
       " 'length': 531}"
      ]
     },
     "execution_count": 31,
     "metadata": {},
     "output_type": "execute_result"
    }
   ],
   "source": [
    "get_uniprot_data('Q8T633', vectorbase=False)"
   ]
  },
  {
   "cell_type": "code",
   "execution_count": null,
   "metadata": {},
   "outputs": [],
   "source": []
  }
 ],
 "metadata": {
  "accelerator": "GPU",
  "colab": {
   "gpuType": "T4",
   "include_colab_link": true,
   "provenance": []
  },
  "kernelspec": {
   "display_name": "Python 3 (ipykernel)",
   "language": "python",
   "name": "python3"
  },
  "language_info": {
   "codemirror_mode": {
    "name": "ipython",
    "version": 3
   },
   "file_extension": ".py",
   "mimetype": "text/x-python",
   "name": "python",
   "nbconvert_exporter": "python",
   "pygments_lexer": "ipython3",
   "version": "3.11.0"
  }
 },
 "nbformat": 4,
 "nbformat_minor": 4
}
