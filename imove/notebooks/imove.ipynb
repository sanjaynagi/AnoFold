{
 "cells": [
  {
   "cell_type": "markdown",
   "metadata": {
    "colab_type": "text",
    "id": "view-in-github"
   },
   "source": [
    "<a href=\"https://colab.research.google.com/github/sanjaynagi/AnoFold/blob/main/notebooks/AnoFold.ipynb\" target=\"_parent\"><img src=\"https://colab.research.google.com/assets/colab-badge.svg\" alt=\"Open In Colab\"/></a>"
   ]
  },
  {
   "cell_type": "code",
   "execution_count": 1,
   "metadata": {
    "colab": {
     "base_uri": "https://localhost:8080/"
    },
    "id": "x5wID6CTbzRB",
    "outputId": "7fefba6d-9d1b-4acf-ee5b-3c3e10aa7339"
   },
   "outputs": [],
   "source": [
    "# %pip install py3Dmol\n",
    "\n",
    "# !wget https://github.com/gnina/gnina/releases/download/v1.1/gnina\n",
    "# !chmod +x gnina\n",
    "# !./gnina --version"
   ]
  },
  {
   "cell_type": "code",
   "execution_count": 2,
   "metadata": {
    "id": "XVXkg5Xi8bdU"
   },
   "outputs": [],
   "source": [
    "# # genes = ['AGAP006227', 'AGAP006228', 'AGAP006723', 'AGAP006724', 'AGAP006725', 'AGAP006726', 'AGAP006727']\n",
    "# df_genes = pd.read_csv(\"https://raw.githubusercontent.com/sanjaynagi/AnoExpress/main/resources/AgamP4.annots.tsv\", \n",
    "#                        sep=\"\\t\")\n",
    "\n",
    "# search = 'S-transferase'\n",
    "# genes = df_genes.fillna('bl').query('GeneDescription.str.contains(@search)')['GeneID'].to_list()"
   ]
  },
  {
   "cell_type": "code",
   "execution_count": 3,
   "metadata": {
    "id": "XVXkg5Xi8bdU"
   },
   "outputs": [],
   "source": [
    "# ligands = ['ddt3d', 'deltamethrin3d']           #, 'pirimiphos-methyl-oxon3d', 'malathion3d', 'cis-permethrin3d','transfluthrin3d']\n",
    "# genes = ['AGAP006227']\n",
    "# # for gene in genes:\n",
    "# #     for ligand in ligands:\n",
    "# #           res = invin(gene, ligand=ligand, override_desc='glutathione transferase')"
   ]
  },
  {
   "cell_type": "markdown",
   "metadata": {
    "id": "FmfNINymb3_o"
   },
   "source": [
    "## iMOVE - inverse molecular docking with alphafold and gnina"
   ]
  },
  {
   "cell_type": "code",
   "execution_count": 2,
   "metadata": {},
   "outputs": [],
   "source": [
    "import imove\n",
    "\n",
    "mutagen_dicts = [None, {114:'T'}, {119:'V'}, {120:'L'}]"
   ]
  },
  {
   "cell_type": "code",
   "execution_count": 3,
   "metadata": {},
   "outputs": [],
   "source": [
    "# for ligand in ['ddt3d', 'deltamethrin3d']:\n",
    "#     for mutagen_dict in mutagen_dicts:\n",
    "        \n",
    "#         # if I114T, the motif needs to be adjusted to include the new mutation\n",
    "#         override_motif = None\n",
    "#         if mutagen_dict:\n",
    "#             if list(mutagen_dict.keys())[0] == 114:\n",
    "#                 override_motif = ('RFTFERI', \"O\", 4)\n",
    "\n",
    "#         imove.dock(\"AGAP009194\", ligand, wkdir=\"../../\", verbose=True, mutagenesis_dict=mutagen_dict, override_motif=override_motif)"
   ]
  },
  {
   "cell_type": "code",
   "execution_count": 8,
   "metadata": {},
   "outputs": [
    {
     "name": "stdout",
     "output_type": "stream",
     "text": [
      "\u001b[0m\u001b[01;34mdocked\u001b[0m/         \u001b[01;34mfigures\u001b[0m/  \u001b[01;34mligands\u001b[0m/  pyproject.toml  \u001b[01;34mreceptors\u001b[0m/\n",
      "example_df.csv  \u001b[01;34mimove\u001b[0m/    \u001b[01;34mlogs\u001b[0m/     README.md       \u001b[01;34mresources\u001b[0m/\n"
     ]
    }
   ],
   "source": [
    "ls ../.."
   ]
  },
  {
   "cell_type": "code",
   "execution_count": 1,
   "metadata": {},
   "outputs": [
    {
     "name": "stdout",
     "output_type": "stream",
     "text": [
      "Starting docking process for gene_id: AGAP000818, ligand: deltamethrin3d\n",
      "receptor file found...\n",
      "Active site coordinates: x=-15.846, y=-23.032, z=-11.293\n",
      "Skipping GNINA docking: log file already exists or ligand file is missing\n"
     ]
    },
    {
     "ename": "UnboundLocalError",
     "evalue": "cannot access local variable 'active_site_motif' where it is not associated with a value",
     "output_type": "error",
     "traceback": [
      "\u001b[0;31m---------------------------------------------------------------------------\u001b[0m",
      "\u001b[0;31mUnboundLocalError\u001b[0m                         Traceback (most recent call last)",
      "Cell \u001b[0;32mIn[1], line 3\u001b[0m\n\u001b[1;32m      1\u001b[0m \u001b[38;5;28;01mimport\u001b[39;00m \u001b[38;5;21;01mimove\u001b[39;00m\n\u001b[1;32m      2\u001b[0m \u001b[38;5;28;01mfor\u001b[39;00m mutagenesis_dict \u001b[38;5;129;01min\u001b[39;00m [\u001b[38;5;28;01mNone\u001b[39;00m, {\u001b[38;5;241m224\u001b[39m:\u001b[38;5;124m'\u001b[39m\u001b[38;5;124mI\u001b[39m\u001b[38;5;124m'\u001b[39m}]:\n\u001b[0;32m----> 3\u001b[0m     docked \u001b[38;5;241m=\u001b[39m imove\u001b[38;5;241m.\u001b[39mdock(\u001b[38;5;124m\"\u001b[39m\u001b[38;5;124mAGAP000818\u001b[39m\u001b[38;5;124m\"\u001b[39m,\n\u001b[1;32m      4\u001b[0m                         \u001b[38;5;124m\"\u001b[39m\u001b[38;5;124mdeltamethrin3d\u001b[39m\u001b[38;5;124m\"\u001b[39m, \n\u001b[1;32m      5\u001b[0m                         wkdir\u001b[38;5;241m=\u001b[39m\u001b[38;5;124m\"\u001b[39m\u001b[38;5;124m../../\u001b[39m\u001b[38;5;124m\"\u001b[39m, \n\u001b[1;32m      6\u001b[0m                         verbose\u001b[38;5;241m=\u001b[39m\u001b[38;5;28;01mTrue\u001b[39;00m, \n\u001b[1;32m      7\u001b[0m                         mutagenesis_dict\u001b[38;5;241m=\u001b[39mmutagenesis_dict,\n\u001b[1;32m      8\u001b[0m                         override_motif\u001b[38;5;241m=\u001b[39m\u001b[38;5;28;01mNone\u001b[39;00m,\n\u001b[1;32m      9\u001b[0m                         p450\u001b[38;5;241m=\u001b[39m\u001b[38;5;28;01mTrue\u001b[39;00m\n\u001b[1;32m     10\u001b[0m                        )\n",
      "File \u001b[0;32m~/apps/mambaforge/lib/python3.11/site-packages/imove/run.py:81\u001b[0m, in \u001b[0;36mdock\u001b[0;34m(gene_id, ligand, override_motif, override_desc, mutagenesis_dict, wkdir, verbose, box_size, p450)\u001b[0m\n\u001b[1;32m     74\u001b[0m     log(\u001b[38;5;124m\"\u001b[39m\u001b[38;5;124mSkipping GNINA docking: log file already exists or ligand file is missing\u001b[39m\u001b[38;5;124m\"\u001b[39m, verbose\u001b[38;5;241m=\u001b[39mverbose)\n\u001b[1;32m     76\u001b[0m log(\u001b[38;5;124m\"\u001b[39m\u001b[38;5;124mDocking process completed\u001b[39m\u001b[38;5;124m\"\u001b[39m)\n\u001b[1;32m     77\u001b[0m \u001b[38;5;28;01mreturn\u001b[39;00m Docked(\n\u001b[1;32m     78\u001b[0m             gene_id\u001b[38;5;241m=\u001b[39mgene_id, \n\u001b[1;32m     79\u001b[0m             ligand\u001b[38;5;241m=\u001b[39mligand,\n\u001b[1;32m     80\u001b[0m             wkdir\u001b[38;5;241m=\u001b[39mwkdir,\n\u001b[0;32m---> 81\u001b[0m             active_site_motif\u001b[38;5;241m=\u001b[39mactive_site_motif,\n\u001b[1;32m     82\u001b[0m             catalytic_codon_in_motif\u001b[38;5;241m=\u001b[39mcatalytic_codon_in_motif,\n\u001b[1;32m     83\u001b[0m             catalytic_molecule\u001b[38;5;241m=\u001b[39mcatalytic_molecule, \n\u001b[1;32m     84\u001b[0m             mutagenesis_dict\u001b[38;5;241m=\u001b[39mmutagenesis_dict\n\u001b[1;32m     85\u001b[0m             )\n",
      "\u001b[0;31mUnboundLocalError\u001b[0m: cannot access local variable 'active_site_motif' where it is not associated with a value"
     ]
    }
   ],
   "source": [
    "import imove\n",
    "for mutagenesis_dict in [None, {224:'I'}]:\n",
    "    docked = imove.dock(\"AGAP000818\",\n",
    "                        \"deltamethrin3d\", \n",
    "                        wkdir=\"../../\", \n",
    "                        verbose=True, \n",
    "                        mutagenesis_dict=mutagenesis_dict,\n",
    "                        override_motif=None,\n",
    "                        p450=True\n",
    "                       )"
   ]
  },
  {
   "cell_type": "code",
   "execution_count": null,
   "metadata": {},
   "outputs": [],
   "source": []
  },
  {
   "cell_type": "code",
   "execution_count": null,
   "metadata": {},
   "outputs": [],
   "source": []
  },
  {
   "cell_type": "code",
   "execution_count": 15,
   "metadata": {},
   "outputs": [],
   "source": [
    "from rdkit.Chem.PandasTools import LoadSDF\n",
    "df = LoadSDF(sdf_file, smilesName='SMILES')"
   ]
  },
  {
   "cell_type": "code",
   "execution_count": 20,
   "metadata": {},
   "outputs": [
    {
     "data": {
      "text/plain": [
       "'CC1(C)[C@H](C(=O)O[C@H](C#N)c2cccc(Oc3ccccc3)c2)[C@@H]1C=C(Br)Br'"
      ]
     },
     "execution_count": 20,
     "metadata": {},
     "output_type": "execute_result"
    }
   ],
   "source": [
    "df['SMILES'][0]"
   ]
  },
  {
   "cell_type": "code",
   "execution_count": 26,
   "metadata": {},
   "outputs": [
    {
     "name": "stdout",
     "output_type": "stream",
     "text": [
      "SMILES: CC(=O)OC1=CC=CC=C1\n",
      "SMARTS: O=C-O\n",
      "Atoms: (2, 1, 3)\n",
      "Midpoint: (1.5877753595093242, 0.4822550828808246, -0.07054475168912559)\n",
      "\n",
      "SMILES: CC1=CC=CC=C1\n",
      "SMARTS: c1ccccc1\n",
      "Atoms: (1, 2, 3, 4, 5, 6)\n",
      "Midpoint: (-0.39946509999666624, -0.005751985466239969, -0.04981439393874695)\n",
      "\n",
      "SMILES: CC(C)C\n",
      "SMARTS: C(C)C\n",
      "Atoms: (1, 0, 2)\n",
      "Midpoint: (0.06883793183177578, -0.4763101155974705, 0.040550998455633654)\n",
      "Atoms: (1, 0, 3)\n",
      "Midpoint: (0.3751832287009016, 0.29429690260557567, 0.03908521937897735)\n",
      "Atoms: (1, 2, 3)\n",
      "Midpoint: (-0.441097591435252, 0.18495223975211175, 0.040316832386537646)\n",
      "\n",
      "Distances to ester group for each conformation:\n",
      "Conformation 1: 15.09\n",
      "Conformation 2: 13.55\n",
      "Conformation 3: 10.91\n",
      "Conformation 4: 11.20\n",
      "Conformation 5: 10.14\n",
      "Conformation 6: 9.45\n",
      "Conformation 7: 10.90\n",
      "Conformation 8: 15.28\n",
      "Conformation 9: 10.30\n",
      "\n",
      "Distances to benzene ring for each conformation:\n",
      "Conformation 1: 7.93\n",
      "Conformation 2: 8.92\n",
      "Conformation 3: 8.76\n",
      "Conformation 4: 8.71\n",
      "Conformation 5: 10.65\n",
      "Conformation 6: 8.98\n",
      "Conformation 7: 12.79\n",
      "Conformation 8: 11.87\n",
      "Conformation 9: 12.52\n"
     ]
    },
    {
     "name": "stderr",
     "output_type": "stream",
     "text": [
      "[10:50:30] Molecule does not have explicit Hs. Consider calling AddHs()\n",
      "[10:50:30] Molecule does not have explicit Hs. Consider calling AddHs()\n",
      "[10:50:30] Molecule does not have explicit Hs. Consider calling AddHs()\n"
     ]
    }
   ],
   "source": [
    "from rdkit import Chem\n",
    "from rdkit.Chem import AllChem\n",
    "from typing import List, Tuple\n",
    "\n",
    "def get_atoms_midpoint(conf, atom_indices: List[int]) -> Tuple[float, float, float]:\n",
    "    \"\"\"\n",
    "    Calculate the 3D midpoint of any number of atoms.\n",
    "    \n",
    "    :param conf: RDKit conformer object\n",
    "    :param atom_indices: List of atom indices\n",
    "    :return: Tuple representing the 3D coordinates of the midpoint\n",
    "    \"\"\"\n",
    "    if not atom_indices:\n",
    "        raise ValueError(\"No atom indices provided\")\n",
    "    \n",
    "    total_x, total_y, total_z = 0, 0, 0\n",
    "    for idx in atom_indices:\n",
    "        pos = conf.GetAtomPosition(idx)\n",
    "        total_x += pos.x\n",
    "        total_y += pos.y\n",
    "        total_z += pos.z\n",
    "    \n",
    "    num_atoms = len(atom_indices)\n",
    "    midpoint = (total_x / num_atoms, total_y / num_atoms, total_z / num_atoms)\n",
    "    return midpoint\n",
    "\n",
    "def measure_distance_to_atoms(mol, residue_coords, smarts_pattern, conf_id=-1):\n",
    "    \"\"\"\n",
    "    Measure the distance from a residue to atoms specified by SMARTS.\n",
    "    \n",
    "    :param mol: RDKit molecule object\n",
    "    :param residue_coords: Tuple of (x, y, z) coordinates of the residue\n",
    "    :param smarts_pattern: SMARTS pattern specifying the atoms of interest\n",
    "    :param conf_id: Conformer ID to use (-1 for default conformer)\n",
    "    :return: Distance from the residue to the midpoint of matching atoms\n",
    "    \"\"\"\n",
    "    matches = mol.GetSubstructMatches(Chem.MolFromSmarts(smarts_pattern))\n",
    "    if not matches:\n",
    "        print(f\"Warning: No matches found for pattern {smarts_pattern}\")\n",
    "        return None\n",
    "    \n",
    "    conf = mol.GetConformer(conf_id)\n",
    "    distances = []\n",
    "    \n",
    "    for match in matches:\n",
    "        midpoint = get_atoms_midpoint(conf, match)\n",
    "        distance = sum((a - b) ** 2 for a, b in zip(residue_coords, midpoint)) ** 0.5\n",
    "        distances.append(distance)\n",
    "    \n",
    "    return min(distances) if distances else None\n",
    "\n",
    "def process_sdf_conformations(sdf_file, residue_coords, smarts_pattern):\n",
    "    \"\"\"\n",
    "    Process all conformations in an SDF file and measure distances to specified atoms.\n",
    "    \n",
    "    :param sdf_file: Path to the SDF file\n",
    "    :param residue_coords: Tuple of (x, y, z) coordinates of the residue\n",
    "    :param smarts_pattern: SMARTS pattern specifying the atoms of interest\n",
    "    :return: List of distances for each conformation\n",
    "    \"\"\"\n",
    "    suppl = Chem.SDMolSupplier(sdf_file, removeHs=False)\n",
    "    all_distances = []\n",
    "\n",
    "    for mol in suppl:\n",
    "        if mol is not None:\n",
    "            for conf_id in range(mol.GetNumConformers()):\n",
    "                distance = measure_distance_to_atoms(mol, residue_coords, smarts_pattern, conf_id)\n",
    "                all_distances.append(distance)\n",
    "    \n",
    "    return all_distances\n",
    "\n",
    "# Example usage and testing\n",
    "def test_midpoint_calculation(smiles, smarts_pattern):\n",
    "    mol = Chem.MolFromSmiles(smiles)\n",
    "    AllChem.EmbedMolecule(mol)  # Generate 3D coordinates\n",
    "    conf = mol.GetConformer()\n",
    "    \n",
    "    matches = mol.GetSubstructMatches(Chem.MolFromSmarts(smarts_pattern))\n",
    "    print(f\"SMILES: {smiles}\")\n",
    "    print(f\"SMARTS: {smarts_pattern}\")\n",
    "    \n",
    "    for match in matches:\n",
    "        midpoint = get_atoms_midpoint(conf, match)\n",
    "        print(f\"Atoms: {match}\")\n",
    "        print(f\"Midpoint: {midpoint}\")\n",
    "    print()\n",
    "\n",
    "# Test cases\n",
    "test_midpoint_calculation(\"CC(=O)OC1=CC=CC=C1\", \"O=C-O\")  # Ester group\n",
    "test_midpoint_calculation(\"CC1=CC=CC=C1\", \"c1ccccc1\")     # Benzene ring\n",
    "test_midpoint_calculation(\"CC(C)C\", \"C(C)C\")              # Isopropyl group\n",
    "\n",
    "# Example of using the updated functions with an SDF file\n",
    "sdf_file = \"../../docked/AGAP006227_deltamethrin3d.sdf\"\n",
    "residue_coords = (1.0, 2.0, 3.0)  # Example residue coordinates\n",
    "\n",
    "ester_pattern = \"C(=O)O\"\n",
    "benzene_pattern = \"c1ccccc1\"\n",
    "\n",
    "ester_distances = process_sdf_conformations(sdf_file, residue_coords, ester_pattern)\n",
    "benzene_distances = process_sdf_conformations(sdf_file, residue_coords, benzene_pattern)\n",
    "\n",
    "print(\"Distances to ester group for each conformation:\")\n",
    "for i, distance in enumerate(ester_distances):\n",
    "    print(f\"Conformation {i+1}: {distance:.2f}\")\n",
    "\n",
    "print(\"\\nDistances to benzene ring for each conformation:\")\n",
    "for i, distance in enumerate(benzene_distances):\n",
    "    print(f\"Conformation {i+1}: {distance:.2f}\")\n",
    "\n"
   ]
  },
  {
   "cell_type": "code",
   "execution_count": null,
   "metadata": {},
   "outputs": [],
   "source": []
  }
 ],
 "metadata": {
  "accelerator": "GPU",
  "colab": {
   "gpuType": "T4",
   "include_colab_link": true,
   "provenance": []
  },
  "kernelspec": {
   "display_name": "Python 3 (ipykernel)",
   "language": "python",
   "name": "python3"
  },
  "language_info": {
   "codemirror_mode": {
    "name": "ipython",
    "version": 3
   },
   "file_extension": ".py",
   "mimetype": "text/x-python",
   "name": "python",
   "nbconvert_exporter": "python",
   "pygments_lexer": "ipython3",
   "version": "3.11.0"
  }
 },
 "nbformat": 4,
 "nbformat_minor": 4
}
