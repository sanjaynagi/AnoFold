{
 "cells": [
  {
   "cell_type": "markdown",
   "metadata": {
    "colab_type": "text",
    "id": "view-in-github"
   },
   "source": [
    "<a href=\"https://colab.research.google.com/github/sanjaynagi/AnoFold/blob/main/notebooks/AnoFold.ipynb\" target=\"_parent\"><img src=\"https://colab.research.google.com/assets/colab-badge.svg\" alt=\"Open In Colab\"/></a>"
   ]
  },
  {
   "cell_type": "code",
   "execution_count": 1,
   "metadata": {
    "colab": {
     "base_uri": "https://localhost:8080/"
    },
    "id": "x5wID6CTbzRB",
    "outputId": "7fefba6d-9d1b-4acf-ee5b-3c3e10aa7339"
   },
   "outputs": [],
   "source": [
    "# %pip install py3Dmol\n",
    "\n",
    "# !wget https://github.com/gnina/gnina/releases/download/v1.1/gnina\n",
    "# !chmod +x gnina\n",
    "# !./gnina --version"
   ]
  },
  {
   "cell_type": "code",
   "execution_count": 2,
   "metadata": {
    "id": "XVXkg5Xi8bdU"
   },
   "outputs": [],
   "source": [
    "# # genes = ['AGAP006227', 'AGAP006228', 'AGAP006723', 'AGAP006724', 'AGAP006725', 'AGAP006726', 'AGAP006727']\n",
    "# df_genes = pd.read_csv(\"https://raw.githubusercontent.com/sanjaynagi/AnoExpress/main/resources/AgamP4.annots.tsv\", \n",
    "#                        sep=\"\\t\")\n",
    "\n",
    "# search = 'S-transferase'\n",
    "# genes = df_genes.fillna('bl').query('GeneDescription.str.contains(@search)')['GeneID'].to_list()"
   ]
  },
  {
   "cell_type": "code",
   "execution_count": 3,
   "metadata": {
    "id": "XVXkg5Xi8bdU"
   },
   "outputs": [],
   "source": [
    "# ligands = ['ddt3d', 'deltamethrin3d']           #, 'pirimiphos-methyl-oxon3d', 'malathion3d', 'cis-permethrin3d','transfluthrin3d']\n",
    "# genes = ['AGAP006227']\n",
    "# # for gene in genes:\n",
    "# #     for ligand in ligands:\n",
    "# #           res = invin(gene, ligand=ligand, override_desc='glutathione transferase')"
   ]
  },
  {
   "cell_type": "markdown",
   "metadata": {
    "id": "FmfNINymb3_o"
   },
   "source": [
    "## iMOVE - inverse molecular docking with alphafold and gnina"
   ]
  },
  {
   "cell_type": "code",
   "execution_count": 1,
   "metadata": {},
   "outputs": [
    {
     "name": "stdout",
     "output_type": "stream",
     "text": [
      "Starting docking process for gene_id: AGAP006227, ligand: deltamethrin3d\n",
      "Checking for receptor and ligand files...\n",
      "Receptor file not found. Downloading and preparing AlphaFold PDB for AGAP006227\n",
      "┌──────────────────────────────────────────────────────────────────────────────┐\n",
      "│                                 PyRosetta-4                                  │\n",
      "│              Created in JHU by Sergey Lyskov and PyRosetta Team              │\n",
      "│              (C) Copyright Rosetta Commons Member Institutions               │\n",
      "│                                                                              │\n",
      "│ NOTE: USE OF PyRosetta FOR COMMERCIAL PURPOSES REQUIRE PURCHASE OF A LICENSE │\n",
      "│         See LICENSE.PyRosetta.md or email license@uw.edu for details         │\n",
      "└──────────────────────────────────────────────────────────────────────────────┘\n",
      "PyRosetta-4 2024 [Rosetta PyRosetta4.Release.python311.ubuntu 2024.19+release.a34b73c40fe9c61558d566d6a63f803cfb15a4fc 2024-05-02T16:22:03] retrieved from: http://www.pyrosetta.org\n",
      "core.init: Checking for fconfig files in pwd and ./rosetta/flags\n",
      "core.init: Rosetta version: PyRosetta4.Release.python311.ubuntu r381 2024.19+release.a34b73c40f a34b73c40fe9c61558d566d6a63f803cfb15a4fc http://www.pyrosetta.org 2024-05-02T16:22:03\n",
      "core.init: Rosetta extras: []\n",
      "core.init: command: PyRosetta -write_pdb_title_section_records true -write_pdb_link_records true -use_pdb_format_HETNAM_records true -write_pdb_parametric_info true -write_glycan_pdb_codes false -write_seqres_records true -output_pose_energies_table false -database /home/sanj/apps/mambaforge/lib/python3.11/site-packages/pyrosetta/database\n",
      "basic.random.init_random_generator: 'RNG device' seed mode, using '/dev/urandom', seed=-2033166780 seed_offset=0 real_seed=-2033166780\n",
      "basic.random.init_random_generator: RandomGenerator:init: Normal mode, seed=-2033166780 RG_type=mt19937\n",
      "core.chemical.GlobalResidueTypeSet: Finished initializing fa_standard residue type set.  Created 985 residue types\n",
      "core.chemical.GlobalResidueTypeSet: Total time to initialize 1.07974 seconds.\n",
      "core.import_pose.import_pose: File '../../receptors/AGAP006227_raw.pdb' automatically determined to be of type PDB\n",
      "core.scoring.ScoreFunctionFactory: SCOREFUNCTION: ref2015\n",
      "core.scoring.etable: Starting energy table calculation\n",
      "core.scoring.etable: smooth_etable: changing atr/rep split to bottom of energy well\n",
      "core.scoring.etable: smooth_etable: spline smoothing lj etables (maxdis = 6)\n",
      "core.scoring.etable: smooth_etable: spline smoothing solvation etables (max_dis = 6)\n",
      "core.scoring.etable: Finished calculating energy tables.\n",
      "basic.io.database: Database file opened: scoring/score_functions/hbonds/ref2015_params/HBPoly1D.csv\n",
      "basic.io.database: Database file opened: scoring/score_functions/hbonds/ref2015_params/HBFadeIntervals.csv\n",
      "basic.io.database: Database file opened: scoring/score_functions/hbonds/ref2015_params/HBEval.csv\n",
      "basic.io.database: Database file opened: scoring/score_functions/hbonds/ref2015_params/DonStrength.csv\n",
      "basic.io.database: Database file opened: scoring/score_functions/hbonds/ref2015_params/AccStrength.csv\n",
      "basic.io.database: Database file opened: scoring/score_functions/rama/fd/all.ramaProb\n",
      "basic.io.database: Database file opened: scoring/score_functions/rama/fd/prepro.ramaProb\n",
      "basic.io.database: Database file opened: scoring/score_functions/omega/omega_ppdep.all.txt\n",
      "basic.io.database: Database file opened: scoring/score_functions/omega/omega_ppdep.gly.txt\n",
      "basic.io.database: Database file opened: scoring/score_functions/omega/omega_ppdep.pro.txt\n",
      "basic.io.database: Database file opened: scoring/score_functions/omega/omega_ppdep.valile.txt\n",
      "basic.io.database: Database file opened: scoring/score_functions/P_AA_pp/P_AA\n",
      "basic.io.database: Database file opened: scoring/score_functions/P_AA_pp/P_AA_n\n",
      "core.scoring.P_AA: shapovalov_lib::shap_p_aa_pp_smooth_level of 1( aka low_smooth ) got activated.\n",
      "basic.io.database: Database file opened: scoring/score_functions/P_AA_pp/shapovalov/10deg/kappa131/a20.prop\n",
      "core.pack.task: Packer task: initialize from command line()\n",
      "basic.io.database: Database file opened: scoring/score_functions/elec_cp_reps.dat\n",
      "core.scoring.elec.util: Read 40 countpair representative atoms\n",
      "core.pack.dunbrack.RotamerLibrary: shapovalov_lib_fixes_enable option is true.\n",
      "core.pack.dunbrack.RotamerLibrary: shapovalov_lib::shap_dun10_smooth_level of 1( aka lowest_smooth ) got activated.\n",
      "core.pack.dunbrack.RotamerLibrary: Binary rotamer library selected: /home/sanj/apps/mambaforge/lib/python3.11/site-packages/pyrosetta/database/rotamer/shapovalov/StpDwn_0-0-0/Dunbrack10.lib.bin\n",
      "core.pack.dunbrack.RotamerLibrary: Using Dunbrack library binary file '/home/sanj/apps/mambaforge/lib/python3.11/site-packages/pyrosetta/database/rotamer/shapovalov/StpDwn_0-0-0/Dunbrack10.lib.bin'.\n",
      "core.pack.dunbrack.RotamerLibrary: Dunbrack 2010 library took 0.146873 seconds to load from binary\n",
      "core.pack.pack_rotamers: built 1 rotamers at 1 positions.\n",
      "core.pack.interaction_graph.interaction_graph_factory: Instantiating PDInteractionGraph\n",
      "Mutated residue 477 to V\n",
      "Mutagenesis complete. New structure saved as '../../receptors/AGAP006227_raw_477V.pdb'\n",
      "Downloaded and protonated AlphaFold PDB for AGAP006227 (UniProt: Q7PPA9) to ../../receptors/AGAP006227_477V.pdbqt\n",
      "UniProt accession: Q7PPA9\n",
      "Running molecular docking for AGAP006227 | 1276888 (Carboxylic ester hydrolase)\n",
      "Generated motifs - active site motif: [LIV].G.S.G, catalytic molecule: OG, catalytic codon in motif: 4\n",
      "Motif detected in PDB at codon 188:194 = LFGESAG, Flanking sequence: PDNVT[LFGESAG]GCSVH\n",
      "Active site coordinates: x=5.257, y=0.15, z=-0.031\n",
      "Preparing to run GNINA for docking...\n",
      "              _             \n",
      "             (_)            \n",
      "   __ _ _ __  _ _ __   __ _ \n",
      "  / _` | '_ \\| | '_ \\ / _` |\n",
      " | (_| | | | | | | | | (_| |\n",
      "  \\__, |_| |_|_|_| |_|\\__,_|\n",
      "   __/ |                    \n",
      "  |___/                     \n",
      "\n",
      "gnina v1.1 master:e4cb380+   Built Dec 18 2023.\n",
      "gnina is based on smina and AutoDock Vina.\n",
      "Please cite appropriately.\n",
      "\n",
      "WARNING: No GPU detected. CNN scoring will be slow.\n",
      "Recommend running with single model (--cnn crossdock_default2018)\n",
      "or without cnn scoring (--cnn_scoring=none).\n",
      "\n",
      "Commandline: ./gnina -r ../../receptors/AGAP006227_477V.pdbqt -l ../../ligands/deltamethrin3d.pdbqt --center_x 5.257 --center_y 0.15 --center_z -0.031 --size_x 20 --size_y 20 --size_z 20 -o ../../docked/AGAP006227_477V_deltamethrin3d.sdf --log ../../logs/AGAP006227_477V_deltamethrin3d.log --seed 0\n",
      "Using random seed: 0\n",
      "\n",
      "0%   10   20   30   40   50   60   70   80   90   100%\n",
      "|----|----|----|----|----|----|----|----|----|----|\n",
      "***************************************************\n",
      " | pose 0 | ligand outside box\n",
      " | pose 0 | ligand outside box\n",
      " | pose 0 | ligand outside box\n",
      " | pose 0 | ligand outside box\n",
      " | pose 0 | ligand outside box\n",
      " | pose 0 | initial pose not within box\n",
      "\n",
      "mode |  affinity  |  intramol  |    CNN     |   CNN\n",
      "     | (kcal/mol) | (kcal/mol) | pose score | affinity\n",
      "-----+------------+------------+------------+----------\n",
      "    1       -7.80        0.06       0.4515      6.266\n",
      "    2       -7.75        0.84       0.3637      6.499\n",
      "    3       -6.96       -0.22       0.3202      6.309\n",
      "    4       -5.92        0.47       0.3086      6.690\n",
      "    5       -7.51       -0.09       0.2957      6.550\n",
      "    6       -7.29        0.48       0.2902      6.077\n",
      "    7       -6.02        0.15       0.2766      6.322\n",
      "    8       -7.13        0.13       0.2692      6.190\n",
      "    9       -7.14       -0.04       0.2622      6.363\n",
      "Docking process completed\n"
     ]
    },
    {
     "ename": "FileNotFoundError",
     "evalue": "[Errno 2] No such file or directory: '../../receptors/AGAP006227477V.pdbqt'",
     "output_type": "error",
     "traceback": [
      "\u001b[0;31m---------------------------------------------------------------------------\u001b[0m",
      "\u001b[0;31mFileNotFoundError\u001b[0m                         Traceback (most recent call last)",
      "Cell \u001b[0;32mIn[1], line 2\u001b[0m\n\u001b[1;32m      1\u001b[0m \u001b[38;5;28;01mimport\u001b[39;00m \u001b[38;5;21;01mimove\u001b[39;00m\n\u001b[0;32m----> 2\u001b[0m docked \u001b[38;5;241m=\u001b[39m imove\u001b[38;5;241m.\u001b[39mdock(\u001b[38;5;124m\"\u001b[39m\u001b[38;5;124mAGAP006227\u001b[39m\u001b[38;5;124m\"\u001b[39m, \u001b[38;5;124m\"\u001b[39m\u001b[38;5;124mdeltamethrin3d\u001b[39m\u001b[38;5;124m\"\u001b[39m, wkdir\u001b[38;5;241m=\u001b[39m\u001b[38;5;124m\"\u001b[39m\u001b[38;5;124m../../\u001b[39m\u001b[38;5;124m\"\u001b[39m, verbose\u001b[38;5;241m=\u001b[39m\u001b[38;5;28;01mTrue\u001b[39;00m, mutagenesis_dict\u001b[38;5;241m=\u001b[39m{\u001b[38;5;241m477\u001b[39m:\u001b[38;5;124m'\u001b[39m\u001b[38;5;124mV\u001b[39m\u001b[38;5;124m'\u001b[39m})\n",
      "File \u001b[0;32m~/apps/mambaforge/lib/python3.11/site-packages/imove/run.py:82\u001b[0m, in \u001b[0;36mdock\u001b[0;34m(gene_id, ligand, override_motif, override_desc, mutagenesis_dict, wkdir, verbose)\u001b[0m\n\u001b[1;32m     79\u001b[0m     log(\u001b[38;5;124m\"\u001b[39m\u001b[38;5;124mSkipping GNINA docking: log file already exists or ligand file is missing\u001b[39m\u001b[38;5;124m\"\u001b[39m)\n\u001b[1;32m     81\u001b[0m log(\u001b[38;5;124m\"\u001b[39m\u001b[38;5;124mDocking process completed\u001b[39m\u001b[38;5;124m\"\u001b[39m)\n\u001b[0;32m---> 82\u001b[0m \u001b[38;5;28;01mreturn\u001b[39;00m Docked(\n\u001b[1;32m     83\u001b[0m             gene_id\u001b[38;5;241m=\u001b[39mgene_id, \n\u001b[1;32m     84\u001b[0m             ligand\u001b[38;5;241m=\u001b[39mligand,\n\u001b[1;32m     85\u001b[0m             wkdir\u001b[38;5;241m=\u001b[39mwkdir,\n\u001b[1;32m     86\u001b[0m             active_site_motif\u001b[38;5;241m=\u001b[39mactive_site_motif,\n\u001b[1;32m     87\u001b[0m             catalytic_codon_in_motif\u001b[38;5;241m=\u001b[39mcatalytic_codon_in_motif,\n\u001b[1;32m     88\u001b[0m             catalytic_molecule\u001b[38;5;241m=\u001b[39mcatalytic_molecule, \n\u001b[1;32m     89\u001b[0m             mutagenesis_dict\u001b[38;5;241m=\u001b[39mmutagenesis_dict\n\u001b[1;32m     90\u001b[0m             )\n",
      "File \u001b[0;32m~/apps/mambaforge/lib/python3.11/site-packages/imove/results.py:33\u001b[0m, in \u001b[0;36mDocked.__init__\u001b[0;34m(self, gene_id, ligand, wkdir, active_site_motif, catalytic_codon_in_motif, catalytic_molecule, mutagenesis_dict)\u001b[0m\n\u001b[1;32m     30\u001b[0m \u001b[38;5;28mself\u001b[39m\u001b[38;5;241m.\u001b[39mcatalytic_codon_in_motif \u001b[38;5;241m=\u001b[39m catalytic_codon_in_motif\n\u001b[1;32m     31\u001b[0m \u001b[38;5;28mself\u001b[39m\u001b[38;5;241m.\u001b[39mcatalytic_molecule \u001b[38;5;241m=\u001b[39m catalytic_molecule\n\u001b[0;32m---> 33\u001b[0m \u001b[38;5;28mself\u001b[39m\u001b[38;5;241m.\u001b[39mdf \u001b[38;5;241m=\u001b[39m \u001b[38;5;28mself\u001b[39m\u001b[38;5;241m.\u001b[39mload_docking_results() \n\u001b[1;32m     34\u001b[0m \u001b[38;5;28mself\u001b[39m\u001b[38;5;241m.\u001b[39mvalues \u001b[38;5;241m=\u001b[39m \u001b[38;5;28mself\u001b[39m\u001b[38;5;241m.\u001b[39mdf\u001b[38;5;241m.\u001b[39mto_numpy()\n\u001b[1;32m     35\u001b[0m \u001b[38;5;28mself\u001b[39m\u001b[38;5;241m.\u001b[39mposes \u001b[38;5;241m=\u001b[39m \u001b[38;5;28mself\u001b[39m\u001b[38;5;241m.\u001b[39mload_poses()\n",
      "File \u001b[0;32m~/apps/mambaforge/lib/python3.11/site-packages/imove/results.py:40\u001b[0m, in \u001b[0;36mDocked.load_docking_results\u001b[0;34m(self)\u001b[0m\n\u001b[1;32m     38\u001b[0m \u001b[38;5;28;01mdef\u001b[39;00m \u001b[38;5;21mload_docking_results\u001b[39m(\u001b[38;5;28mself\u001b[39m):\n\u001b[0;32m---> 40\u001b[0m     residue_number \u001b[38;5;241m=\u001b[39m pdb_to_residue_number(receptor_path\u001b[38;5;241m=\u001b[39m\u001b[38;5;28mself\u001b[39m\u001b[38;5;241m.\u001b[39mreceptor_path, active_site_motif\u001b[38;5;241m=\u001b[39m\u001b[38;5;28mself\u001b[39m\u001b[38;5;241m.\u001b[39mactive_site_motif, catalytic_codon_in_motif\u001b[38;5;241m=\u001b[39m\u001b[38;5;28mself\u001b[39m\u001b[38;5;241m.\u001b[39mcatalytic_codon_in_motif)\n\u001b[1;32m     41\u001b[0m     \u001b[38;5;66;03m# Calculate distances\u001b[39;00m\n\u001b[1;32m     42\u001b[0m     distances \u001b[38;5;241m=\u001b[39m calculate_distances(receptor_path\u001b[38;5;241m=\u001b[39m\u001b[38;5;28mself\u001b[39m\u001b[38;5;241m.\u001b[39mreceptor_path, docked_path\u001b[38;5;241m=\u001b[39m\u001b[38;5;28mself\u001b[39m\u001b[38;5;241m.\u001b[39mdocked_path, residue_number\u001b[38;5;241m=\u001b[39mresidue_number, catalytic_molecule\u001b[38;5;241m=\u001b[39m\u001b[38;5;28mself\u001b[39m\u001b[38;5;241m.\u001b[39mcatalytic_molecule)\n",
      "File \u001b[0;32m~/apps/mambaforge/lib/python3.11/site-packages/imove/utils.py:81\u001b[0m, in \u001b[0;36mpdb_to_residue_number\u001b[0;34m(receptor_path, active_site_motif, catalytic_codon_in_motif)\u001b[0m\n\u001b[1;32m     80\u001b[0m \u001b[38;5;28;01mdef\u001b[39;00m \u001b[38;5;21mpdb_to_residue_number\u001b[39m(receptor_path, active_site_motif, catalytic_codon_in_motif):\n\u001b[0;32m---> 81\u001b[0m     df_pdb \u001b[38;5;241m=\u001b[39m pdb_to_pandas(receptor_path)\n\u001b[1;32m     83\u001b[0m     \u001b[38;5;66;03m# Extract unique amino acids\u001b[39;00m\n\u001b[1;32m     84\u001b[0m     aa3 \u001b[38;5;241m=\u001b[39m df_pdb[[\u001b[38;5;124m'\u001b[39m\u001b[38;5;124mresidue_name\u001b[39m\u001b[38;5;124m'\u001b[39m, \u001b[38;5;124m'\u001b[39m\u001b[38;5;124mresidue_number\u001b[39m\u001b[38;5;124m'\u001b[39m]]\u001b[38;5;241m.\u001b[39mdrop_duplicates()[\u001b[38;5;124m'\u001b[39m\u001b[38;5;124mresidue_name\u001b[39m\u001b[38;5;124m'\u001b[39m]\n",
      "File \u001b[0;32m~/apps/mambaforge/lib/python3.11/site-packages/imove/utils.py:76\u001b[0m, in \u001b[0;36mpdb_to_pandas\u001b[0;34m(file_path)\u001b[0m\n\u001b[1;32m     74\u001b[0m     \u001b[38;5;28;01mreturn\u001b[39;00m parse_pdb(file_path)\n\u001b[1;32m     75\u001b[0m \u001b[38;5;28;01melif\u001b[39;00m file_path\u001b[38;5;241m.\u001b[39mlower()\u001b[38;5;241m.\u001b[39mendswith(\u001b[38;5;124m'\u001b[39m\u001b[38;5;124m.pdbqt\u001b[39m\u001b[38;5;124m'\u001b[39m):\n\u001b[0;32m---> 76\u001b[0m     \u001b[38;5;28;01mreturn\u001b[39;00m parse_pdbqt(file_path)\n\u001b[1;32m     77\u001b[0m \u001b[38;5;28;01melse\u001b[39;00m:\n\u001b[1;32m     78\u001b[0m     \u001b[38;5;28;01mraise\u001b[39;00m \u001b[38;5;167;01mValueError\u001b[39;00m(\u001b[38;5;124m\"\u001b[39m\u001b[38;5;124mUnsupported file format. Please provide a .pdb or .pdbqt file.\u001b[39m\u001b[38;5;124m\"\u001b[39m)\n",
      "File \u001b[0;32m~/apps/mambaforge/lib/python3.11/site-packages/imove/utils.py:48\u001b[0m, in \u001b[0;36mparse_pdbqt\u001b[0;34m(file_path)\u001b[0m\n\u001b[1;32m     45\u001b[0m columns \u001b[38;5;241m=\u001b[39m [\u001b[38;5;124m'\u001b[39m\u001b[38;5;124mrecord_type\u001b[39m\u001b[38;5;124m'\u001b[39m, \u001b[38;5;124m'\u001b[39m\u001b[38;5;124matom_number\u001b[39m\u001b[38;5;124m'\u001b[39m, \u001b[38;5;124m'\u001b[39m\u001b[38;5;124matom_name\u001b[39m\u001b[38;5;124m'\u001b[39m, \u001b[38;5;124m'\u001b[39m\u001b[38;5;124malt_loc\u001b[39m\u001b[38;5;124m'\u001b[39m, \u001b[38;5;124m'\u001b[39m\u001b[38;5;124mresidue_name\u001b[39m\u001b[38;5;124m'\u001b[39m, \u001b[38;5;124m'\u001b[39m\u001b[38;5;124mchain_id\u001b[39m\u001b[38;5;124m'\u001b[39m, \n\u001b[1;32m     46\u001b[0m            \u001b[38;5;124m'\u001b[39m\u001b[38;5;124mresidue_number\u001b[39m\u001b[38;5;124m'\u001b[39m, \u001b[38;5;124m'\u001b[39m\u001b[38;5;124minsertion\u001b[39m\u001b[38;5;124m'\u001b[39m, \u001b[38;5;124m'\u001b[39m\u001b[38;5;124mx\u001b[39m\u001b[38;5;124m'\u001b[39m, \u001b[38;5;124m'\u001b[39m\u001b[38;5;124my\u001b[39m\u001b[38;5;124m'\u001b[39m, \u001b[38;5;124m'\u001b[39m\u001b[38;5;124mz\u001b[39m\u001b[38;5;124m'\u001b[39m, \u001b[38;5;124m'\u001b[39m\u001b[38;5;124moccupancy\u001b[39m\u001b[38;5;124m'\u001b[39m, \u001b[38;5;124m'\u001b[39m\u001b[38;5;124mtemp_factor\u001b[39m\u001b[38;5;124m'\u001b[39m, \u001b[38;5;124m'\u001b[39m\u001b[38;5;124mpartial_charge\u001b[39m\u001b[38;5;124m'\u001b[39m, \u001b[38;5;124m'\u001b[39m\u001b[38;5;124matom_type\u001b[39m\u001b[38;5;124m'\u001b[39m]\n\u001b[1;32m     47\u001b[0m data \u001b[38;5;241m=\u001b[39m []\n\u001b[0;32m---> 48\u001b[0m \u001b[38;5;28;01mwith\u001b[39;00m \u001b[38;5;28mopen\u001b[39m(file_path, \u001b[38;5;124m'\u001b[39m\u001b[38;5;124mr\u001b[39m\u001b[38;5;124m'\u001b[39m) \u001b[38;5;28;01mas\u001b[39;00m file:\n\u001b[1;32m     49\u001b[0m     \u001b[38;5;28;01mfor\u001b[39;00m line \u001b[38;5;129;01min\u001b[39;00m file:\n\u001b[1;32m     50\u001b[0m         \u001b[38;5;28;01mif\u001b[39;00m line\u001b[38;5;241m.\u001b[39mstartswith(\u001b[38;5;124m'\u001b[39m\u001b[38;5;124mATOM\u001b[39m\u001b[38;5;124m'\u001b[39m) \u001b[38;5;129;01mor\u001b[39;00m line\u001b[38;5;241m.\u001b[39mstartswith(\u001b[38;5;124m'\u001b[39m\u001b[38;5;124mHETATM\u001b[39m\u001b[38;5;124m'\u001b[39m):\n",
      "\u001b[0;31mFileNotFoundError\u001b[0m: [Errno 2] No such file or directory: '../../receptors/AGAP006227477V.pdbqt'"
     ]
    }
   ],
   "source": [
    "import imove\n",
    "docked = imove.dock(\"AGAP006227\", \"deltamethrin3d\", wkdir=\"../../\", verbose=True, mutagenesis_dict={477:'V'})"
   ]
  },
  {
   "cell_type": "code",
   "execution_count": null,
   "metadata": {},
   "outputs": [],
   "source": []
  },
  {
   "cell_type": "code",
   "execution_count": null,
   "metadata": {},
   "outputs": [],
   "source": []
  },
  {
   "cell_type": "code",
   "execution_count": null,
   "metadata": {},
   "outputs": [],
   "source": []
  },
  {
   "cell_type": "markdown",
   "metadata": {
    "id": "Iesomu5OHATQ"
   },
   "source": [
    "### Chimera / HEM / Superimposement"
   ]
  },
  {
   "cell_type": "code",
   "execution_count": null,
   "metadata": {
    "id": "ahdwGt9n93Kb"
   },
   "outputs": [],
   "source": [
    "# %pip install chimerax"
   ]
  },
  {
   "cell_type": "code",
   "execution_count": null,
   "metadata": {
    "id": "REInbaPp9xnZ"
   },
   "outputs": [],
   "source": [
    "# from chimerax.core.commands import run\n",
    "\n",
    "# # Open your PDB and the reference PDB with the heme\n",
    "# run(session, pdb_path)\n",
    "# run(session, ref_p450_path)\n",
    "\n",
    "# # Assuming your P450 is model #1 and the reference is model #2\n",
    "# # Perform the superposition\n",
    "# run(session, \"match #2 to #1\")\n",
    "\n",
    "# # Select the heme from the reference model\n",
    "# run(session, \"select #2/name HEM\")\n",
    "\n",
    "# # Copy the selected heme to your P450 model\n",
    "# run(session, \"copy sel models #1\")\n",
    "\n",
    "# # Optionally, you can hide or close the reference model\n",
    "# run(session, \"hide #2\")\n",
    "# # or\n",
    "# # run(session, \"close #2\")\n",
    "\n",
    "# # Save the result\n",
    "# run(session, \"save your_p450_with_heme.pdb models #1\")"
   ]
  }
 ],
 "metadata": {
  "accelerator": "GPU",
  "colab": {
   "gpuType": "T4",
   "include_colab_link": true,
   "provenance": []
  },
  "kernelspec": {
   "display_name": "Python 3 (ipykernel)",
   "language": "python",
   "name": "python3"
  },
  "language_info": {
   "codemirror_mode": {
    "name": "ipython",
    "version": 3
   },
   "file_extension": ".py",
   "mimetype": "text/x-python",
   "name": "python",
   "nbconvert_exporter": "python",
   "pygments_lexer": "ipython3",
   "version": "3.11.0"
  }
 },
 "nbformat": 4,
 "nbformat_minor": 4
}
