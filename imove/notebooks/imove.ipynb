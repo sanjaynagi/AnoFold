{
 "cells": [
  {
   "cell_type": "markdown",
   "metadata": {
    "colab_type": "text",
    "id": "view-in-github"
   },
   "source": [
    "<a href=\"https://colab.research.google.com/github/sanjaynagi/AnoFold/blob/main/notebooks/AnoFold.ipynb\" target=\"_parent\"><img src=\"https://colab.research.google.com/assets/colab-badge.svg\" alt=\"Open In Colab\"/></a>"
   ]
  },
  {
   "cell_type": "code",
   "execution_count": 1,
   "metadata": {
    "colab": {
     "base_uri": "https://localhost:8080/"
    },
    "id": "x5wID6CTbzRB",
    "outputId": "7fefba6d-9d1b-4acf-ee5b-3c3e10aa7339"
   },
   "outputs": [],
   "source": [
    "# %pip install py3Dmol\n",
    "\n",
    "# !wget https://github.com/gnina/gnina/releases/download/v1.1/gnina\n",
    "# !chmod +x gnina\n",
    "# !./gnina --version"
   ]
  },
  {
   "cell_type": "code",
   "execution_count": 2,
   "metadata": {
    "id": "2kA4VyCKTm5-"
   },
   "outputs": [],
   "source": [
    "import imove\n",
    "import pandas as pd"
   ]
  },
  {
   "cell_type": "markdown",
   "metadata": {
    "id": "FmfNINymb3_o"
   },
   "source": [
    "## AnoFold - molecular docking with alphafold and gnina"
   ]
  },
  {
   "cell_type": "code",
   "execution_count": 3,
   "metadata": {
    "id": "XVXkg5Xi8bdU"
   },
   "outputs": [],
   "source": [
    "# genes = ['AGAP006227', 'AGAP006228', 'AGAP006723', 'AGAP006724', 'AGAP006725', 'AGAP006726', 'AGAP006727']\n",
    "\n",
    "df_genes = pd.read_csv(\"https://raw.githubusercontent.com/sanjaynagi/AnoExpress/main/resources/AgamP4.annots.tsv\", \n",
    "                       sep=\"\\t\")\n",
    "\n",
    "search = 'S-transferase'\n",
    "genes = df_genes.fillna('bl').query('GeneDescription.str.contains(@search)')['GeneID'].to_list()"
   ]
  },
  {
   "cell_type": "code",
   "execution_count": 4,
   "metadata": {
    "id": "XVXkg5Xi8bdU"
   },
   "outputs": [],
   "source": [
    "ligands = ['ddt3d', 'deltamethrin3d']           #, 'pirimiphos-methyl-oxon3d', 'malathion3d', 'cis-permethrin3d','transfluthrin3d']\n",
    "genes = ['AGAP006227']\n",
    "# for gene in genes:\n",
    "#     for ligand in ligands:\n",
    "#           res = invin(gene, ligand=ligand, override_desc='glutathione transferase')"
   ]
  },
  {
   "cell_type": "code",
   "execution_count": 5,
   "metadata": {},
   "outputs": [
    {
     "name": "stdout",
     "output_type": "stream",
     "text": [
      "Starting docking process for gene_id: AGAP006227, ligand: deltamethrin3d\n",
      "Checking for receptor and ligand files...\n",
      "Generating or using provided motifs...\n",
      "UniProt accession: Q7PPA9\n",
      "Running molecular docking for AGAP006227 | 1276888 (Carboxylic ester hydrolase)\n",
      "Generated motifs- active site motif: [LIV].G.S.G, catalytic molecule: OG, catalytic codon in motif: 4\n",
      "Getting active site coordinates...\n",
      "Motif detected in PDB at codon 188:194 = LFGESAG, Flanking sequence: PDNVT[LFGESAG]GCSVH\n",
      "Active site coordinates: x=5.257, y=0.15, z=-0.031\n",
      "Skipping GNINA docking: log file already exists or ligand file is missing\n",
      "Docking process completed\n"
     ]
    }
   ],
   "source": [
    "docked = imove.dock(genes[0], \"deltamethrin3d\", wkdir=\"../../\", verbose=True)"
   ]
  },
  {
   "cell_type": "code",
   "execution_count": 6,
   "metadata": {},
   "outputs": [],
   "source": [
    "# fig, df = docked.cluster_poses()\n",
    "# fig"
   ]
  },
  {
   "cell_type": "code",
   "execution_count": 7,
   "metadata": {},
   "outputs": [],
   "source": [
    "# docked.view_3d()"
   ]
  },
  {
   "cell_type": "code",
   "execution_count": 8,
   "metadata": {},
   "outputs": [],
   "source": [
    "import plotly.express as px\n"
   ]
  },
  {
   "cell_type": "code",
   "execution_count": 12,
   "metadata": {},
   "outputs": [
    {
     "data": {
      "text/html": [
       "<div>\n",
       "<style scoped>\n",
       "    .dataframe tbody tr th:only-of-type {\n",
       "        vertical-align: middle;\n",
       "    }\n",
       "\n",
       "    .dataframe tbody tr th {\n",
       "        vertical-align: top;\n",
       "    }\n",
       "\n",
       "    .dataframe thead th {\n",
       "        text-align: right;\n",
       "    }\n",
       "</style>\n",
       "<table border=\"1\" class=\"dataframe\">\n",
       "  <thead>\n",
       "    <tr style=\"text-align: right;\">\n",
       "      <th></th>\n",
       "      <th>Mode</th>\n",
       "      <th>Affinity</th>\n",
       "      <th>Intramol</th>\n",
       "      <th>CNN_score</th>\n",
       "      <th>CNN_affinity</th>\n",
       "      <th>Distance</th>\n",
       "    </tr>\n",
       "  </thead>\n",
       "  <tbody>\n",
       "    <tr>\n",
       "      <th>0</th>\n",
       "      <td>1</td>\n",
       "      <td>-7.89</td>\n",
       "      <td>0.01</td>\n",
       "      <td>0.4886</td>\n",
       "      <td>6.362</td>\n",
       "      <td>9.623388</td>\n",
       "    </tr>\n",
       "    <tr>\n",
       "      <th>1</th>\n",
       "      <td>2</td>\n",
       "      <td>-6.76</td>\n",
       "      <td>-0.10</td>\n",
       "      <td>0.4825</td>\n",
       "      <td>6.618</td>\n",
       "      <td>7.958562</td>\n",
       "    </tr>\n",
       "    <tr>\n",
       "      <th>2</th>\n",
       "      <td>3</td>\n",
       "      <td>-6.87</td>\n",
       "      <td>0.67</td>\n",
       "      <td>0.4758</td>\n",
       "      <td>6.650</td>\n",
       "      <td>7.423434</td>\n",
       "    </tr>\n",
       "    <tr>\n",
       "      <th>3</th>\n",
       "      <td>4</td>\n",
       "      <td>-7.69</td>\n",
       "      <td>-0.26</td>\n",
       "      <td>0.4312</td>\n",
       "      <td>6.512</td>\n",
       "      <td>7.688041</td>\n",
       "    </tr>\n",
       "    <tr>\n",
       "      <th>4</th>\n",
       "      <td>5</td>\n",
       "      <td>-6.47</td>\n",
       "      <td>-0.36</td>\n",
       "      <td>0.4025</td>\n",
       "      <td>6.705</td>\n",
       "      <td>6.564186</td>\n",
       "    </tr>\n",
       "    <tr>\n",
       "      <th>5</th>\n",
       "      <td>6</td>\n",
       "      <td>-6.59</td>\n",
       "      <td>-0.06</td>\n",
       "      <td>0.3991</td>\n",
       "      <td>6.480</td>\n",
       "      <td>7.494464</td>\n",
       "    </tr>\n",
       "    <tr>\n",
       "      <th>6</th>\n",
       "      <td>7</td>\n",
       "      <td>-7.16</td>\n",
       "      <td>0.20</td>\n",
       "      <td>0.3049</td>\n",
       "      <td>6.246</td>\n",
       "      <td>6.808237</td>\n",
       "    </tr>\n",
       "    <tr>\n",
       "      <th>7</th>\n",
       "      <td>8</td>\n",
       "      <td>-7.36</td>\n",
       "      <td>0.04</td>\n",
       "      <td>0.2979</td>\n",
       "      <td>5.801</td>\n",
       "      <td>9.765707</td>\n",
       "    </tr>\n",
       "    <tr>\n",
       "      <th>8</th>\n",
       "      <td>9</td>\n",
       "      <td>-7.15</td>\n",
       "      <td>0.25</td>\n",
       "      <td>0.2777</td>\n",
       "      <td>6.184</td>\n",
       "      <td>6.641194</td>\n",
       "    </tr>\n",
       "  </tbody>\n",
       "</table>\n",
       "</div>"
      ],
      "text/plain": [
       "   Mode  Affinity  Intramol  CNN_score  CNN_affinity  Distance\n",
       "0     1     -7.89      0.01     0.4886         6.362  9.623388\n",
       "1     2     -6.76     -0.10     0.4825         6.618  7.958562\n",
       "2     3     -6.87      0.67     0.4758         6.650  7.423434\n",
       "3     4     -7.69     -0.26     0.4312         6.512  7.688041\n",
       "4     5     -6.47     -0.36     0.4025         6.705  6.564186\n",
       "5     6     -6.59     -0.06     0.3991         6.480  7.494464\n",
       "6     7     -7.16      0.20     0.3049         6.246  6.808237\n",
       "7     8     -7.36      0.04     0.2979         5.801  9.765707\n",
       "8     9     -7.15      0.25     0.2777         6.184  6.641194"
      ]
     },
     "execution_count": 12,
     "metadata": {},
     "output_type": "execute_result"
    }
   ],
   "source": [
    "docked.df"
   ]
  },
  {
   "cell_type": "code",
   "execution_count": null,
   "metadata": {},
   "outputs": [],
   "source": [
    "px.scatter(docked.df, x='CNN_score', y='Affinity', color='Mode', template='simple_white')"
   ]
  },
  {
   "cell_type": "markdown",
   "metadata": {
    "id": "Iesomu5OHATQ"
   },
   "source": [
    "### Chimera / HEM / Superimposement"
   ]
  },
  {
   "cell_type": "code",
   "execution_count": null,
   "metadata": {
    "id": "ahdwGt9n93Kb"
   },
   "outputs": [],
   "source": [
    "# %pip install chimerax"
   ]
  },
  {
   "cell_type": "code",
   "execution_count": null,
   "metadata": {
    "id": "REInbaPp9xnZ"
   },
   "outputs": [],
   "source": [
    "# from chimerax.core.commands import run\n",
    "\n",
    "# # Open your PDB and the reference PDB with the heme\n",
    "# run(session, pdb_path)\n",
    "# run(session, ref_p450_path)\n",
    "\n",
    "# # Assuming your P450 is model #1 and the reference is model #2\n",
    "# # Perform the superposition\n",
    "# run(session, \"match #2 to #1\")\n",
    "\n",
    "# # Select the heme from the reference model\n",
    "# run(session, \"select #2/name HEM\")\n",
    "\n",
    "# # Copy the selected heme to your P450 model\n",
    "# run(session, \"copy sel models #1\")\n",
    "\n",
    "# # Optionally, you can hide or close the reference model\n",
    "# run(session, \"hide #2\")\n",
    "# # or\n",
    "# # run(session, \"close #2\")\n",
    "\n",
    "# # Save the result\n",
    "# run(session, \"save your_p450_with_heme.pdb models #1\")"
   ]
  }
 ],
 "metadata": {
  "accelerator": "GPU",
  "colab": {
   "gpuType": "T4",
   "include_colab_link": true,
   "provenance": []
  },
  "kernelspec": {
   "display_name": "Python 3 (ipykernel)",
   "language": "python",
   "name": "python3"
  },
  "language_info": {
   "codemirror_mode": {
    "name": "ipython",
    "version": 3
   },
   "file_extension": ".py",
   "mimetype": "text/x-python",
   "name": "python",
   "nbconvert_exporter": "python",
   "pygments_lexer": "ipython3",
   "version": "3.11.0"
  }
 },
 "nbformat": 4,
 "nbformat_minor": 4
}
