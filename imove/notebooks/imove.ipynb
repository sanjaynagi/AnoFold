{
 "cells": [
  {
   "cell_type": "markdown",
   "metadata": {
    "colab_type": "text",
    "id": "view-in-github"
   },
   "source": [
    "<a href=\"https://colab.research.google.com/github/sanjaynagi/AnoFold/blob/main/notebooks/AnoFold.ipynb\" target=\"_parent\"><img src=\"https://colab.research.google.com/assets/colab-badge.svg\" alt=\"Open In Colab\"/></a>"
   ]
  },
  {
   "cell_type": "code",
   "execution_count": null,
   "metadata": {
    "colab": {
     "base_uri": "https://localhost:8080/"
    },
    "id": "x5wID6CTbzRB",
    "outputId": "7fefba6d-9d1b-4acf-ee5b-3c3e10aa7339"
   },
   "outputs": [],
   "source": [
    "# %pip install py3Dmol\n",
    "\n",
    "# !wget https://github.com/gnina/gnina/releases/download/v1.1/gnina\n",
    "# !chmod +x gnina\n",
    "# !./gnina --version"
   ]
  },
  {
   "cell_type": "code",
   "execution_count": null,
   "metadata": {
    "id": "XVXkg5Xi8bdU"
   },
   "outputs": [],
   "source": [
    "# # genes = ['AGAP006227', 'AGAP006228', 'AGAP006723', 'AGAP006724', 'AGAP006725', 'AGAP006726', 'AGAP006727']\n",
    "# df_genes = pd.read_csv(\"https://raw.githubusercontent.com/sanjaynagi/AnoExpress/main/resources/AgamP4.annots.tsv\", \n",
    "#                        sep=\"\\t\")\n",
    "\n",
    "# search = 'S-transferase'\n",
    "# genes = df_genes.fillna('bl').query('GeneDescription.str.contains(@search)')['GeneID'].to_list()"
   ]
  },
  {
   "cell_type": "code",
   "execution_count": null,
   "metadata": {
    "id": "XVXkg5Xi8bdU"
   },
   "outputs": [],
   "source": [
    "# ligands = ['ddt3d', 'deltamethrin3d']           #, 'pirimiphos-methyl-oxon3d', 'malathion3d', 'cis-permethrin3d','transfluthrin3d']\n",
    "# genes = ['AGAP006227']\n",
    "# # for gene in genes:\n",
    "# #     for ligand in ligands:\n",
    "# #           res = invin(gene, ligand=ligand, override_desc='glutathione transferase')"
   ]
  },
  {
   "cell_type": "markdown",
   "metadata": {
    "id": "FmfNINymb3_o"
   },
   "source": [
    "## iMOVE - inverse molecular docking with alphafold and gnina"
   ]
  },
  {
   "cell_type": "code",
   "execution_count": null,
   "metadata": {},
   "outputs": [],
   "source": [
    "import imove\n",
    "\n",
    "for ligand in ['ddt3d', 'deltamethrin3d']:\n",
    "    for mutagen_dict in [{114:'T'}, {120:'L'}]:\n",
    "        imove.dock(\"AGAP009194\", ligand, wkdir=\"../../\", verbose=True, mutagenesis_dict=mutagen_dict)"
   ]
  },
  {
   "cell_type": "code",
   "execution_count": null,
   "metadata": {},
   "outputs": [],
   "source": []
  },
  {
   "cell_type": "code",
   "execution_count": null,
   "metadata": {},
   "outputs": [],
   "source": []
  },
  {
   "cell_type": "markdown",
   "metadata": {
    "id": "Iesomu5OHATQ"
   },
   "source": [
    "### Chimera / HEM / Superimposement"
   ]
  },
  {
   "cell_type": "code",
   "execution_count": null,
   "metadata": {
    "id": "ahdwGt9n93Kb"
   },
   "outputs": [],
   "source": [
    "# %pip install chimerax"
   ]
  },
  {
   "cell_type": "code",
   "execution_count": null,
   "metadata": {
    "id": "REInbaPp9xnZ"
   },
   "outputs": [],
   "source": [
    "# from chimerax.core.commands import run\n",
    "\n",
    "# # Open your PDB and the reference PDB with the heme\n",
    "# run(session, pdb_path)\n",
    "# run(session, ref_p450_path)\n",
    "\n",
    "# # Assuming your P450 is model #1 and the reference is model #2\n",
    "# # Perform the superposition\n",
    "# run(session, \"match #2 to #1\")\n",
    "\n",
    "# # Select the heme from the reference model\n",
    "# run(session, \"select #2/name HEM\")\n",
    "\n",
    "# # Copy the selected heme to your P450 model\n",
    "# run(session, \"copy sel models #1\")\n",
    "\n",
    "# # Optionally, you can hide or close the reference model\n",
    "# run(session, \"hide #2\")\n",
    "# # or\n",
    "# # run(session, \"close #2\")\n",
    "\n",
    "# # Save the result\n",
    "# run(session, \"save your_p450_with_heme.pdb models #1\")"
   ]
  }
 ],
 "metadata": {
  "accelerator": "GPU",
  "colab": {
   "gpuType": "T4",
   "include_colab_link": true,
   "provenance": []
  },
  "kernelspec": {
   "display_name": "Python 3 (ipykernel)",
   "language": "python",
   "name": "python3"
  },
  "language_info": {
   "codemirror_mode": {
    "name": "ipython",
    "version": 3
   },
   "file_extension": ".py",
   "mimetype": "text/x-python",
   "name": "python",
   "nbconvert_exporter": "python",
   "pygments_lexer": "ipython3",
   "version": "3.11.0"
  }
 },
 "nbformat": 4,
 "nbformat_minor": 4
}
