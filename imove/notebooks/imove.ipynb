{
 "cells": [
  {
   "cell_type": "markdown",
   "metadata": {
    "colab_type": "text",
    "id": "view-in-github"
   },
   "source": [
    "<a href=\"https://colab.research.google.com/github/sanjaynagi/AnoFold/blob/main/notebooks/AnoFold.ipynb\" target=\"_parent\"><img src=\"https://colab.research.google.com/assets/colab-badge.svg\" alt=\"Open In Colab\"/></a>"
   ]
  },
  {
   "cell_type": "code",
   "execution_count": 1,
   "metadata": {
    "colab": {
     "base_uri": "https://localhost:8080/"
    },
    "id": "x5wID6CTbzRB",
    "outputId": "7fefba6d-9d1b-4acf-ee5b-3c3e10aa7339"
   },
   "outputs": [],
   "source": [
    "# %pip install py3Dmol\n",
    "\n",
    "# !wget https://github.com/gnina/gnina/releases/download/v1.1/gnina\n",
    "# !chmod +x gnina\n",
    "# !./gnina --version"
   ]
  },
  {
   "cell_type": "code",
   "execution_count": 2,
   "metadata": {
    "id": "XVXkg5Xi8bdU"
   },
   "outputs": [],
   "source": [
    "# # genes = ['AGAP006227', 'AGAP006228', 'AGAP006723', 'AGAP006724', 'AGAP006725', 'AGAP006726', 'AGAP006727']\n",
    "# df_genes = pd.read_csv(\"https://raw.githubusercontent.com/sanjaynagi/AnoExpress/main/resources/AgamP4.annots.tsv\", \n",
    "#                        sep=\"\\t\")\n",
    "\n",
    "# search = 'S-transferase'\n",
    "# genes = df_genes.fillna('bl').query('GeneDescription.str.contains(@search)')['GeneID'].to_list()"
   ]
  },
  {
   "cell_type": "code",
   "execution_count": 3,
   "metadata": {
    "id": "XVXkg5Xi8bdU"
   },
   "outputs": [],
   "source": [
    "# ligands = ['ddt3d', 'deltamethrin3d']           #, 'pirimiphos-methyl-oxon3d', 'malathion3d', 'cis-permethrin3d','transfluthrin3d']\n",
    "# genes = ['AGAP006227']\n",
    "# # for gene in genes:\n",
    "# #     for ligand in ligands:\n",
    "# #           res = invin(gene, ligand=ligand, override_desc='glutathione transferase')"
   ]
  },
  {
   "cell_type": "markdown",
   "metadata": {
    "id": "FmfNINymb3_o"
   },
   "source": [
    "## iMOVE - inverse molecular docking with alphafold and gnina"
   ]
  },
  {
   "cell_type": "code",
   "execution_count": 4,
   "metadata": {},
   "outputs": [],
   "source": [
    "import imove\n",
    "\n",
    "mutagen_dicts = [None, {114:'T'}, {119:'V'}, {120:'L'}]"
   ]
  },
  {
   "cell_type": "code",
   "execution_count": 5,
   "metadata": {},
   "outputs": [],
   "source": [
    "# for ligand in ['ddt3d', 'deltamethrin3d']:\n",
    "#     for mutagen_dict in mutagen_dicts:\n",
    "        \n",
    "#         # if I114T, the motif needs to be adjusted to include the new mutation\n",
    "#         override_motif = None\n",
    "#         if mutagen_dict:\n",
    "#             if list(mutagen_dict.keys())[0] == 114:\n",
    "#                 override_motif = ('RFTFERI', \"O\", 4)\n",
    "\n",
    "#         imove.dock(\"AGAP009194\", ligand, wkdir=\"../../\", verbose=True, mutagenesis_dict=mutagen_dict, override_motif=override_motif)"
   ]
  },
  {
   "cell_type": "code",
   "execution_count": 2,
   "metadata": {},
   "outputs": [],
   "source": [
    "# docked = imove.dock(\"AGAP000818\", \"ddt3d\", wkdir=\"../../\", verbose=True, mutagenesis_dict=mutagen_dicts[3], override_motif=None)"
   ]
  },
  {
   "cell_type": "code",
   "execution_count": 1,
   "metadata": {},
   "outputs": [
    {
     "name": "stdout",
     "output_type": "stream",
     "text": [
      "Downloading and preparing PDB file for gene_id: AGAP000818\n",
      "Receptor file not found. Downloading and preparing AlphaFold PDB for AGAP000818\n"
     ]
    },
    {
     "ename": "TypeError",
     "evalue": "copy_heme_to_p450() got an unexpected keyword argument 'p450_pdb_path'",
     "output_type": "error",
     "traceback": [
      "\u001b[0;31m---------------------------------------------------------------------------\u001b[0m",
      "\u001b[0;31mTypeError\u001b[0m                                 Traceback (most recent call last)",
      "Cell \u001b[0;32mIn[1], line 3\u001b[0m\n\u001b[1;32m      1\u001b[0m \u001b[38;5;28;01mimport\u001b[39;00m \u001b[38;5;21;01mimove\u001b[39;00m\n\u001b[0;32m----> 3\u001b[0m imove\u001b[38;5;241m.\u001b[39mdownload_pdb(\u001b[38;5;124m'\u001b[39m\u001b[38;5;124mAGAP000818\u001b[39m\u001b[38;5;124m'\u001b[39m, wkdir\u001b[38;5;241m=\u001b[39m\u001b[38;5;124m\"\u001b[39m\u001b[38;5;124m../../\u001b[39m\u001b[38;5;124m\"\u001b[39m, verbose\u001b[38;5;241m=\u001b[39m\u001b[38;5;28;01mTrue\u001b[39;00m, p450\u001b[38;5;241m=\u001b[39m\u001b[38;5;28;01mTrue\u001b[39;00m)\n",
      "File \u001b[0;32m~/apps/mambaforge/lib/python3.11/site-packages/imove/run.py:101\u001b[0m, in \u001b[0;36mdownload_pdb\u001b[0;34m(gene_id, verbose, mutagenesis_dict, wkdir, p450)\u001b[0m\n\u001b[1;32m     99\u001b[0m \u001b[38;5;28;01mif\u001b[39;00m \u001b[38;5;129;01mnot\u001b[39;00m os\u001b[38;5;241m.\u001b[39mpath\u001b[38;5;241m.\u001b[39mexists(pdb_path):\n\u001b[1;32m    100\u001b[0m     log(\u001b[38;5;124mf\u001b[39m\u001b[38;5;124m\"\u001b[39m\u001b[38;5;124mReceptor file not found. Downloading and preparing AlphaFold PDB for \u001b[39m\u001b[38;5;132;01m{\u001b[39;00mgene_id\u001b[38;5;132;01m}\u001b[39;00m\u001b[38;5;124m\"\u001b[39m, verbose\u001b[38;5;241m=\u001b[39mverbose)\n\u001b[0;32m--> 101\u001b[0m     download_and_prepare_alphafold_pdb(gene_id, output_dir\u001b[38;5;241m=\u001b[39mreceptors_save_path, ph\u001b[38;5;241m=\u001b[39m\u001b[38;5;241m7.4\u001b[39m, mutagenesis_dict\u001b[38;5;241m=\u001b[39mmutagenesis_dict, p450\u001b[38;5;241m=\u001b[39mp450)\n\u001b[1;32m    102\u001b[0m \u001b[38;5;28;01melse\u001b[39;00m:\n\u001b[1;32m    103\u001b[0m     log(\u001b[38;5;124m\"\u001b[39m\u001b[38;5;124mReceptor file found...\u001b[39m\u001b[38;5;124m\"\u001b[39m, verbose\u001b[38;5;241m=\u001b[39mverbose)\n",
      "File \u001b[0;32m~/apps/mambaforge/lib/python3.11/site-packages/imove/prepare.py:113\u001b[0m, in \u001b[0;36mdownload_and_prepare_alphafold_pdb\u001b[0;34m(gene_id, output_dir, ph, mutagenesis_dict, p450)\u001b[0m\n\u001b[1;32m    109\u001b[0m     raw_pdb_file, mut_str \u001b[38;5;241m=\u001b[39m mutate_residue(receptor_path\u001b[38;5;241m=\u001b[39mraw_pdb_file, mutagenesis_dict\u001b[38;5;241m=\u001b[39mmutagenesis_dict)\n\u001b[1;32m    111\u001b[0m \u001b[38;5;28;01mif\u001b[39;00m p450:\n\u001b[1;32m    112\u001b[0m     \u001b[38;5;66;03m# Add heme to P450 structure\u001b[39;00m\n\u001b[0;32m--> 113\u001b[0m     raw_pdb_file \u001b[38;5;241m=\u001b[39m copy_heme_to_p450(reference_pdb_path\u001b[38;5;241m=\u001b[39mraw_pdb_file, p450_pdb_path\u001b[38;5;241m=\u001b[39mraw_pdb_file)\n\u001b[1;32m    115\u001b[0m output_file \u001b[38;5;241m=\u001b[39m os\u001b[38;5;241m.\u001b[39mpath\u001b[38;5;241m.\u001b[39mjoin(output_dir, \u001b[38;5;124mf\u001b[39m\u001b[38;5;124m\"\u001b[39m\u001b[38;5;132;01m{\u001b[39;00mgene_id\u001b[38;5;132;01m}\u001b[39;00m\u001b[38;5;132;01m{\u001b[39;00mmut_str\u001b[38;5;132;01m}\u001b[39;00m\u001b[38;5;124m.pdbqt\u001b[39m\u001b[38;5;124m\"\u001b[39m)\n\u001b[1;32m    116\u001b[0m \u001b[38;5;66;03m# Use OpenBabel to add hydrogens\u001b[39;00m\n",
      "\u001b[0;31mTypeError\u001b[0m: copy_heme_to_p450() got an unexpected keyword argument 'p450_pdb_path'"
     ]
    }
   ],
   "source": [
    "import imove\n",
    "\n",
    "imove.download_pdb('AGAP000818', wkdir=\"../../\", verbose=True, p450=True)"
   ]
  }
 ],
 "metadata": {
  "accelerator": "GPU",
  "colab": {
   "gpuType": "T4",
   "include_colab_link": true,
   "provenance": []
  },
  "kernelspec": {
   "display_name": "Python 3 (ipykernel)",
   "language": "python",
   "name": "python3"
  },
  "language_info": {
   "codemirror_mode": {
    "name": "ipython",
    "version": 3
   },
   "file_extension": ".py",
   "mimetype": "text/x-python",
   "name": "python",
   "nbconvert_exporter": "python",
   "pygments_lexer": "ipython3",
   "version": "3.11.0"
  }
 },
 "nbformat": 4,
 "nbformat_minor": 4
}
