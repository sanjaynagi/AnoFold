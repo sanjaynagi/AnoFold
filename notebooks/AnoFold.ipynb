{
  "nbformat": 4,
  "nbformat_minor": 0,
  "metadata": {
    "colab": {
      "provenance": [],
      "authorship_tag": "ABX9TyNDHrl6vD3AGm3KTRWjqtx4",
      "include_colab_link": true
    },
    "kernelspec": {
      "name": "python3",
      "display_name": "Python 3"
    },
    "language_info": {
      "name": "python"
    }
  },
  "cells": [
    {
      "cell_type": "markdown",
      "metadata": {
        "id": "view-in-github",
        "colab_type": "text"
      },
      "source": [
        "<a href=\"https://colab.research.google.com/github/sanjaynagi/AnoFold/blob/main/notebooks/AnoFold.ipynb\" target=\"_parent\"><img src=\"https://colab.research.google.com/assets/colab-badge.svg\" alt=\"Open In Colab\"/></a>"
      ]
    },
    {
      "cell_type": "code",
      "execution_count": 12,
      "metadata": {
        "id": "2kA4VyCKTm5-"
      },
      "outputs": [],
      "source": [
        "import pandas as pd\n",
        "import numpy as np\n",
        "import plotly.express as px\n",
        "import requests\n",
        "import os\n",
        "import re\n",
        "import glob\n",
        "\n",
        "def vectorbase_to_uniprot(gene_id):\n",
        "    url = \"https://rest.uniprot.org/idmapping/run\"\n",
        "    data = {\n",
        "        \"from\": \"VEuPathDB\",\n",
        "        \"to\": \"UniProtKB\",\n",
        "        \"ids\": f\"VectorBase:{gene_id}\"\n",
        "    }\n",
        "\n",
        "    response = requests.post(url, data=data)\n",
        "    response.raise_for_status()\n",
        "    job_id = response.json()[\"jobId\"]\n",
        "\n",
        "    status_url = f\"https://rest.uniprot.org/idmapping/status/{job_id}\"\n",
        "    while True:\n",
        "        status_response = requests.get(status_url)\n",
        "        status_response.raise_for_status()\n",
        "        status = status_response.json()\n",
        "        if \"jobStatus\" in status and status[\"jobStatus\"] in (\"RUNNING\", \"NEW\"):\n",
        "            continue\n",
        "        elif \"results\" in status or \"failedIds\" in status:\n",
        "            break\n",
        "\n",
        "    results_url = f\"https://rest.uniprot.org/idmapping/stream/{job_id}\"\n",
        "    results_response = requests.get(results_url)\n",
        "    results_response.raise_for_status()\n",
        "    results = results_response.json()\n",
        "\n",
        "    if \"results\" in results and results[\"results\"]:\n",
        "        return results[\"results\"][0][\"to\"]\n",
        "    else:\n",
        "        return None\n",
        "\n",
        "def download_alphafold_pdb(gene_id, output_dir='.'):\n",
        "    # Convert VectorBase GeneID to UniProt accession\n",
        "    uniprot_accession = vectorbase_to_uniprot(gene_id)\n",
        "    if uniprot_accession is None:\n",
        "        print(f\"No UniProt accession found for GeneID: {gene_id}\")\n",
        "        return None\n",
        "\n",
        "    # Download the PDB file\n",
        "    response = requests.get(f\"https://alphafold.ebi.ac.uk/files/AF-{uniprot_accession}-F1-model_v4.pdb\")\n",
        "    if response.status_code == 200:\n",
        "        # Create the output directory if it doesn't exist\n",
        "        os.makedirs(output_dir, exist_ok=True)\n",
        "\n",
        "        # Save the PDB file\n",
        "        output_file = os.path.join(output_dir, f\"{gene_id}.pdb\")\n",
        "        with open(output_file, 'wb') as f:\n",
        "            f.write(response.content)\n",
        "\n",
        "        print(f\"Downloaded AlphaFold PDB for {gene_id} (UniProt: {uniprot_accession}) to {output_file}\")\n",
        "        return output_file\n",
        "    else:\n",
        "        print(f\"Failed to download AlphaFold PDB for {gene_id} (UniProt: {uniprot_accession}). Status code: {response.status_code}\")\n",
        "        return None\n",
        "\n",
        "amino_acid_map = {\n",
        "    'ALA': 'A', 'ARG': 'R', 'ASN': 'N', 'ASP': 'D', 'CYS': 'C',\n",
        "    'GLN': 'Q', 'GLU': 'E', 'GLY': 'G', 'HIS': 'H', 'ILE': 'I',\n",
        "    'LEU': 'L', 'LYS': 'K', 'MET': 'M', 'PHE': 'F', 'PRO': 'P',\n",
        "    'SER': 'S', 'THR': 'T', 'TRP': 'W', 'TYR': 'Y', 'VAL': 'V'\n",
        "    }\n",
        "\n",
        "def pdb_to_coords(pdb_path, motif, target_molecule, target_codon_in_motif, flanking_size=5):\n",
        "    # Read and process the PDB file\n",
        "    df_pdb = pd.read_csv(pdb_path, skiprows=90, header=None)[0].str.split(\"\\s+\", expand=True).iloc[:-3,:-1]\n",
        "    df_pdb.columns = [\n",
        "        \"record\", \"atom\", \"atom_name\", \"amino_acid\", \"chain_identifier\", \"codon\",\n",
        "        \"x\", \"y\", \"z\", \"occupancy\", \"b-factor\", \"element_symbol\",\n",
        "    ]\n",
        "    df_pdb = df_pdb.query(\"record == 'ATOM'\")\n",
        "\n",
        "    # Extract unique amino acids\n",
        "    aa3 = df_pdb[['amino_acid', 'codon']].drop_duplicates()['amino_acid']\n",
        "\n",
        "    convert = np.vectorize(lambda x: amino_acid_map.get(x, x))\n",
        "    aa1 = convert(aa3)\n",
        "\n",
        "    # Find all occurrences of the motif\n",
        "    aa_sequence = ''.join(aa1)\n",
        "    motif_matches = list(re.finditer(motif, aa_sequence))\n",
        "\n",
        "    results = []\n",
        "    for match in motif_matches:\n",
        "        start, end = match.start(), match.end()\n",
        "\n",
        "        # Get flanking region\n",
        "        flanking_start = max(0, start - flanking_size)\n",
        "        flanking_end = min(len(aa_sequence), end + flanking_size)\n",
        "        flanking = aa_sequence[flanking_start:start] + '[' + aa_sequence[start:end] + ']' + aa_sequence[end:flanking_end]\n",
        "\n",
        "        print(f\"Motif detected at codon {start+1}:{end} = {aa_sequence[start:end]}\")\n",
        "        print(f\"Flanking region: {flanking}\")\n",
        "\n",
        "        # Find coordinates for the target molecule\n",
        "        target_idx = str(start + 1 + target_codon_in_motif)\n",
        "        coords = df_pdb.query(\"codon == @target_idx and atom_name == @target_molecule\")\n",
        "\n",
        "        if not coords.empty:\n",
        "            coord_array = coords.drop_duplicates('atom_name')[['x', 'y', 'z']].to_numpy()[0].astype(float)\n",
        "            results.append({\n",
        "                'start': start + 1,\n",
        "                'end': end,\n",
        "                'motif': aa_sequence[start:end],\n",
        "                'flanking': flanking,\n",
        "                'coordinates': coord_array\n",
        "            })\n",
        "\n",
        "    if len(results) > 1:\n",
        "        print(f\"Warning, multiple {len(results)} matching motifs found\")\n",
        "\n",
        "    return results\n",
        "\n",
        "\n",
        "# Function to write Vina configuration files\n",
        "def write_vina_config(receptor, ligand, x, y, z, size=20, threads=4):\n",
        "\n",
        "    # x,y,z = pdb_to_coords(f\"../protein-modelling/coeaexg/{receptor}.pdb\", r\"G.S.G\", \"O\", target_codon_idx=3)\n",
        "    config_filename = f\"config_files/{receptor}_{ligand}.config\"\n",
        "    os.makedirs(os.path.dirname(config_filename), exist_ok=True)\n",
        "\n",
        "    with open(config_filename, \"w\") as fileConn:\n",
        "        fileConn.write(f\"\"\"receptor = receptors/{receptor}.pdbqt\n",
        "                        ligand = ligands/{ligand}.pdbqt\n",
        "\n",
        "                        center_x = {x}\n",
        "                        center_y = {y}\n",
        "                        center_z = {z}\n",
        "\n",
        "                        size_x = {size}\n",
        "                        size_y = {size}\n",
        "                        size_z = {size}\n",
        "\n",
        "                        out = vina_results/{receptor}_{ligand}.log\n",
        "\n",
        "                        cpu = {threads}\n",
        "                        exhaustiveness = 8\n",
        "                        \"\"\")\n"
      ]
    },
    {
      "cell_type": "code",
      "source": [
        "# Example usage\n",
        "gene_id = \"AGAP006227\"\n",
        "pdb_file = download_alphafold_pdb(gene_id, output_dir='alphafold_pdbs')"
      ],
      "metadata": {
        "colab": {
          "base_uri": "https://localhost:8080/"
        },
        "id": "Mb53Gj7wVBdT",
        "outputId": "74112b45-5edb-48f5-c62a-6e95fdde0421"
      },
      "execution_count": 3,
      "outputs": [
        {
          "output_type": "stream",
          "name": "stdout",
          "text": [
            "Downloaded AlphaFold PDB for AGAP006227 (UniProt: Q7PPA9) to alphafold_pdbs/AGAP006227.pdb\n"
          ]
        }
      ]
    },
    {
      "cell_type": "code",
      "source": [
        "res = pdb_to_coords(pdb_path=\"alphafold_pdbs/AGAP006227.pdb\", motif='[LVG].G.S.G', target_molecule=\"O\", target_codon_in_motif=5)"
      ],
      "metadata": {
        "colab": {
          "base_uri": "https://localhost:8080/"
        },
        "id": "IUW4Z72QVD_H",
        "outputId": "e82fbdac-89ee-4995-be0e-0638ed6c1eaf"
      },
      "execution_count": 14,
      "outputs": [
        {
          "output_type": "stream",
          "name": "stdout",
          "text": [
            "Motif detected at codon 188:194 = LFGESAG\n",
            "Flanking region: PDNVT[LFGESAG]GCSVH\n"
          ]
        }
      ]
    }
  ]
}